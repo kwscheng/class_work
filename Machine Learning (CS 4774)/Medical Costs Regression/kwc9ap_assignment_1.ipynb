{
  "nbformat": 4,
  "nbformat_minor": 0,
  "metadata": {
    "kernelspec": {
      "display_name": "Python 3",
      "language": "python",
      "name": "python3"
    },
    "language_info": {
      "codemirror_mode": {
        "name": "ipython",
        "version": 3
      },
      "file_extension": ".py",
      "mimetype": "text/x-python",
      "name": "python",
      "nbconvert_exporter": "python",
      "pygments_lexer": "ipython3",
      "version": "3.7.0"
    },
    "colab": {
      "name": "kwc9ap_assignment_1.ipynb",
      "provenance": [],
      "collapsed_sections": [
        "l0lLa-xiR101"
      ],
      "toc_visible": true,
      "history_visible": true
    }
  },
  "cells": [
    {
      "cell_type": "markdown",
      "metadata": {
        "id": "s-RzEZEBR10z"
      },
      "source": [
        "# Assignment 1: Comparison of Regression Models on Predicting Medical Costs"
      ]
    },
    {
      "cell_type": "markdown",
      "metadata": {
        "id": "0qYDyMDTR100"
      },
      "source": [
        "### CS 4774 Machine Learning - Department of Computer Science - University of Virginia\n",
        "![Medical Cost](https://creditkarma-cms.imgix.net/wp-content/uploads/2018/04/boomers-gen-x-high-cost-medical-care.jpg)\n",
        "In this assignment, you will implement some learning models in the context of a **regression** problem in the [Medical Cost Personal Dataset on Kaggle](https://www.kaggle.com/mirichoi0218/insurance). Specifically, you will attempt to predict the medical cost billed by health insurance using other provided patient's data. For references, you may refer to [my slides](https://docs.google.com/presentation/d/10D1he89peAWaFgjtZlHpUzvOOAie_vIFT95htKCKgc0/edit#slide=id.p) or the Google Colab if you need additional sample codes to help with your assignment. To get started, you will need to upload/copy the dataset (.csv) into the same folder as this file. \n",
        "\n",
        "For deliverables, you must write code in Colab and submit the downloaded Jupyter Notebook file (.ipynb) to earn a total of 100 pts. You will gain points depending on how you perform in the following sections.\n"
      ]
    },
    {
      "cell_type": "markdown",
      "metadata": {
        "id": "l0lLa-xiR101"
      },
      "source": [
        "***\n",
        "##  Task 1: SEE THE BIG PICTURE\n",
        "Write a paragraph explaining the context of the problem in which you are trying to investigate. We will assume that the data file is put into the same workspace on Colab. Then, you can write some code to load the CSV file and take a quick look at the dataset, and output the following:\n",
        "\n",
        " * How big is your dataset? (in terms of MB)\n",
        " * How many entries does it have?\n",
        " * How many features does it have?\n",
        " * Does it contain any categorical data?\n",
        " * Is there any missing value?\n",
        " * What are some basic statistics you can learn right away about this dataset?"
      ]
    },
    {
      "cell_type": "code",
      "metadata": {
        "id": "ujitZUYeR101"
      },
      "source": [
        "# Import some common packages\n",
        "import os\n",
        "import numpy as np\n",
        "import matplotlib\n",
        "import matplotlib.pyplot as plt\n",
        "import pandas as pd\n",
        "\n",
        "# to make this notebook's output stable across runs\n",
        "np.random.seed(42)\n",
        "\n",
        "# Your code goes here for this section, make sure you also include the output to answer the above questions."
      ],
      "execution_count": 1,
      "outputs": []
    },
    {
      "cell_type": "code",
      "metadata": {
        "colab": {
          "base_uri": "https://localhost:8080/",
          "height": 297
        },
        "id": "6Mjq0WuVPNiV",
        "outputId": "5f8c476a-54e6-4ed0-e416-2fc6cf89443d"
      },
      "source": [
        "insurance = pd.read_csv(\"/content/insurance.csv\")\n",
        "insurance.describe()"
      ],
      "execution_count": 2,
      "outputs": [
        {
          "output_type": "execute_result",
          "data": {
            "text/html": [
              "<div>\n",
              "<style scoped>\n",
              "    .dataframe tbody tr th:only-of-type {\n",
              "        vertical-align: middle;\n",
              "    }\n",
              "\n",
              "    .dataframe tbody tr th {\n",
              "        vertical-align: top;\n",
              "    }\n",
              "\n",
              "    .dataframe thead th {\n",
              "        text-align: right;\n",
              "    }\n",
              "</style>\n",
              "<table border=\"1\" class=\"dataframe\">\n",
              "  <thead>\n",
              "    <tr style=\"text-align: right;\">\n",
              "      <th></th>\n",
              "      <th>age</th>\n",
              "      <th>bmi</th>\n",
              "      <th>children</th>\n",
              "      <th>charges</th>\n",
              "    </tr>\n",
              "  </thead>\n",
              "  <tbody>\n",
              "    <tr>\n",
              "      <th>count</th>\n",
              "      <td>1338.000000</td>\n",
              "      <td>1338.000000</td>\n",
              "      <td>1338.000000</td>\n",
              "      <td>1338.000000</td>\n",
              "    </tr>\n",
              "    <tr>\n",
              "      <th>mean</th>\n",
              "      <td>39.207025</td>\n",
              "      <td>30.663397</td>\n",
              "      <td>1.094918</td>\n",
              "      <td>13270.422265</td>\n",
              "    </tr>\n",
              "    <tr>\n",
              "      <th>std</th>\n",
              "      <td>14.049960</td>\n",
              "      <td>6.098187</td>\n",
              "      <td>1.205493</td>\n",
              "      <td>12110.011237</td>\n",
              "    </tr>\n",
              "    <tr>\n",
              "      <th>min</th>\n",
              "      <td>18.000000</td>\n",
              "      <td>15.960000</td>\n",
              "      <td>0.000000</td>\n",
              "      <td>1121.873900</td>\n",
              "    </tr>\n",
              "    <tr>\n",
              "      <th>25%</th>\n",
              "      <td>27.000000</td>\n",
              "      <td>26.296250</td>\n",
              "      <td>0.000000</td>\n",
              "      <td>4740.287150</td>\n",
              "    </tr>\n",
              "    <tr>\n",
              "      <th>50%</th>\n",
              "      <td>39.000000</td>\n",
              "      <td>30.400000</td>\n",
              "      <td>1.000000</td>\n",
              "      <td>9382.033000</td>\n",
              "    </tr>\n",
              "    <tr>\n",
              "      <th>75%</th>\n",
              "      <td>51.000000</td>\n",
              "      <td>34.693750</td>\n",
              "      <td>2.000000</td>\n",
              "      <td>16639.912515</td>\n",
              "    </tr>\n",
              "    <tr>\n",
              "      <th>max</th>\n",
              "      <td>64.000000</td>\n",
              "      <td>53.130000</td>\n",
              "      <td>5.000000</td>\n",
              "      <td>63770.428010</td>\n",
              "    </tr>\n",
              "  </tbody>\n",
              "</table>\n",
              "</div>"
            ],
            "text/plain": [
              "               age          bmi     children       charges\n",
              "count  1338.000000  1338.000000  1338.000000   1338.000000\n",
              "mean     39.207025    30.663397     1.094918  13270.422265\n",
              "std      14.049960     6.098187     1.205493  12110.011237\n",
              "min      18.000000    15.960000     0.000000   1121.873900\n",
              "25%      27.000000    26.296250     0.000000   4740.287150\n",
              "50%      39.000000    30.400000     1.000000   9382.033000\n",
              "75%      51.000000    34.693750     2.000000  16639.912515\n",
              "max      64.000000    53.130000     5.000000  63770.428010"
            ]
          },
          "metadata": {},
          "execution_count": 2
        }
      ]
    },
    {
      "cell_type": "code",
      "metadata": {
        "colab": {
          "base_uri": "https://localhost:8080/",
          "height": 0
        },
        "id": "hDFHxBy5Pcdb",
        "outputId": "400feae1-e024-4da1-92b0-a45f9f2088fb"
      },
      "source": [
        "insurance.head()"
      ],
      "execution_count": 3,
      "outputs": [
        {
          "output_type": "execute_result",
          "data": {
            "text/html": [
              "<div>\n",
              "<style scoped>\n",
              "    .dataframe tbody tr th:only-of-type {\n",
              "        vertical-align: middle;\n",
              "    }\n",
              "\n",
              "    .dataframe tbody tr th {\n",
              "        vertical-align: top;\n",
              "    }\n",
              "\n",
              "    .dataframe thead th {\n",
              "        text-align: right;\n",
              "    }\n",
              "</style>\n",
              "<table border=\"1\" class=\"dataframe\">\n",
              "  <thead>\n",
              "    <tr style=\"text-align: right;\">\n",
              "      <th></th>\n",
              "      <th>age</th>\n",
              "      <th>sex</th>\n",
              "      <th>bmi</th>\n",
              "      <th>children</th>\n",
              "      <th>smoker</th>\n",
              "      <th>region</th>\n",
              "      <th>charges</th>\n",
              "    </tr>\n",
              "  </thead>\n",
              "  <tbody>\n",
              "    <tr>\n",
              "      <th>0</th>\n",
              "      <td>19</td>\n",
              "      <td>female</td>\n",
              "      <td>27.900</td>\n",
              "      <td>0</td>\n",
              "      <td>yes</td>\n",
              "      <td>southwest</td>\n",
              "      <td>16884.92400</td>\n",
              "    </tr>\n",
              "    <tr>\n",
              "      <th>1</th>\n",
              "      <td>18</td>\n",
              "      <td>male</td>\n",
              "      <td>33.770</td>\n",
              "      <td>1</td>\n",
              "      <td>no</td>\n",
              "      <td>southeast</td>\n",
              "      <td>1725.55230</td>\n",
              "    </tr>\n",
              "    <tr>\n",
              "      <th>2</th>\n",
              "      <td>28</td>\n",
              "      <td>male</td>\n",
              "      <td>33.000</td>\n",
              "      <td>3</td>\n",
              "      <td>no</td>\n",
              "      <td>southeast</td>\n",
              "      <td>4449.46200</td>\n",
              "    </tr>\n",
              "    <tr>\n",
              "      <th>3</th>\n",
              "      <td>33</td>\n",
              "      <td>male</td>\n",
              "      <td>22.705</td>\n",
              "      <td>0</td>\n",
              "      <td>no</td>\n",
              "      <td>northwest</td>\n",
              "      <td>21984.47061</td>\n",
              "    </tr>\n",
              "    <tr>\n",
              "      <th>4</th>\n",
              "      <td>32</td>\n",
              "      <td>male</td>\n",
              "      <td>28.880</td>\n",
              "      <td>0</td>\n",
              "      <td>no</td>\n",
              "      <td>northwest</td>\n",
              "      <td>3866.85520</td>\n",
              "    </tr>\n",
              "  </tbody>\n",
              "</table>\n",
              "</div>"
            ],
            "text/plain": [
              "   age     sex     bmi  children smoker     region      charges\n",
              "0   19  female  27.900         0    yes  southwest  16884.92400\n",
              "1   18    male  33.770         1     no  southeast   1725.55230\n",
              "2   28    male  33.000         3     no  southeast   4449.46200\n",
              "3   33    male  22.705         0     no  northwest  21984.47061\n",
              "4   32    male  28.880         0     no  northwest   3866.85520"
            ]
          },
          "metadata": {},
          "execution_count": 3
        }
      ]
    },
    {
      "cell_type": "code",
      "metadata": {
        "colab": {
          "base_uri": "https://localhost:8080/"
        },
        "id": "-yjhSbnMPeQ1",
        "outputId": "00fd6787-a8a8-46d1-e1ba-7cd39acf06c1"
      },
      "source": [
        "insurance.info()"
      ],
      "execution_count": 4,
      "outputs": [
        {
          "output_type": "stream",
          "name": "stdout",
          "text": [
            "<class 'pandas.core.frame.DataFrame'>\n",
            "RangeIndex: 1338 entries, 0 to 1337\n",
            "Data columns (total 7 columns):\n",
            " #   Column    Non-Null Count  Dtype  \n",
            "---  ------    --------------  -----  \n",
            " 0   age       1338 non-null   int64  \n",
            " 1   sex       1338 non-null   object \n",
            " 2   bmi       1338 non-null   float64\n",
            " 3   children  1338 non-null   int64  \n",
            " 4   smoker    1338 non-null   object \n",
            " 5   region    1338 non-null   object \n",
            " 6   charges   1338 non-null   float64\n",
            "dtypes: float64(2), int64(2), object(3)\n",
            "memory usage: 73.3+ KB\n"
          ]
        }
      ]
    },
    {
      "cell_type": "markdown",
      "metadata": {
        "id": "2LUTOVhAPhIn"
      },
      "source": [
        "1. **How big is your dataset?**   73.3 KB\n",
        "2. **How many entries does it have?** 1338\n",
        "3. **How many features does it have?** 7\n",
        "4. **Does it contain any categorical data?** Yes. Sex, smoker, and region\n",
        "5. **Is there any missing value?** No\n",
        "6. **What are some basic statistics you can learn right away about this dataset?** Mean age is 39.2 and average bmi is 30.7"
      ]
    },
    {
      "cell_type": "markdown",
      "metadata": {
        "id": "Xfw6nVzoR104"
      },
      "source": [
        "---\n",
        "##  Task 2: DATA DISCOVERY, CLEANING, AND SCALING \n",
        "\n",
        "**Data Discover:** Plot out all correlations among the features. You should notice some features are more correlated with your predicted value than other. This information will help you confirm that weights of your regression model later on.\n",
        "\n",
        "**Data Cleaning:** If your dataset has some missing values, make sure you are able to fill those values with the Imputer class. If your dataset has categorical features, make sure you conver those features into numerical using OneHotEncoder class. \n",
        "\n",
        "**Feature Scaling** More importantly, your task is to write some codes to normalize the value of each features as follow:\n",
        "\n",
        "* Subtract the mean value of each feature from the dataset\n",
        "* Scale (divide) the feature values by their respective standard deviation\n",
        "\n",
        "**Implementation Note:** You will need to integrate the above operations into a Pipeline to process and transform the training data, then use the same pipeline to transform any validation and testing data."
      ]
    },
    {
      "cell_type": "code",
      "metadata": {
        "id": "KI2IIJdHR104"
      },
      "source": [
        "# You might want to use the following package\n",
        "from sklearn.model_selection import train_test_split\n",
        "from pandas.plotting import scatter_matrix # optional\n",
        "from sklearn.impute import SimpleImputer\n",
        "from sklearn.preprocessing import LabelEncoder\n",
        "from sklearn.preprocessing import OneHotEncoder\n",
        "from sklearn.pipeline import Pipeline\n",
        "from sklearn.preprocessing import StandardScaler\n",
        "\n",
        "# Your code goes here for this section.\n",
        "train, test = train_test_split(insurance,test_size=.2)"
      ],
      "execution_count": 5,
      "outputs": []
    },
    {
      "cell_type": "code",
      "metadata": {
        "id": "uQ8nr_gWT33E"
      },
      "source": [
        "X_train = train.drop(\"charges\", axis=1)\n",
        "y_train = train[\"charges\"].copy()\n",
        "\n",
        "X_test = test.drop(\"charges\", axis=1)\n",
        "y_test = test[\"charges\"].copy()"
      ],
      "execution_count": 6,
      "outputs": []
    },
    {
      "cell_type": "code",
      "metadata": {
        "colab": {
          "base_uri": "https://localhost:8080/"
        },
        "id": "fMgcod7oUz7A",
        "outputId": "aea57ef5-6826-496d-80a9-c39d7d24a12d"
      },
      "source": [
        "corr_matrix = insurance.corr()\n",
        "corr_matrix[\"charges\"].sort_values(ascending=False)"
      ],
      "execution_count": 7,
      "outputs": [
        {
          "output_type": "execute_result",
          "data": {
            "text/plain": [
              "charges     1.000000\n",
              "age         0.299008\n",
              "bmi         0.198341\n",
              "children    0.067998\n",
              "Name: charges, dtype: float64"
            ]
          },
          "metadata": {},
          "execution_count": 7
        }
      ]
    },
    {
      "cell_type": "code",
      "metadata": {
        "colab": {
          "base_uri": "https://localhost:8080/",
          "height": 583
        },
        "id": "uVltXakYN4to",
        "outputId": "1ad2a5a4-e505-493a-e366-62061ec29ad6"
      },
      "source": [
        "from pandas.plotting import scatter_matrix\n",
        "\n",
        "attributes = [\"charges\",\"age\", \"bmi\", \"children\"]\n",
        "scatter_matrix(insurance[attributes], figsize=(12, 4))"
      ],
      "execution_count": 8,
      "outputs": [
        {
          "output_type": "execute_result",
          "data": {
            "text/plain": [
              "array([[<matplotlib.axes._subplots.AxesSubplot object at 0x7fd8d041c1d0>,\n",
              "        <matplotlib.axes._subplots.AxesSubplot object at 0x7fd8d03c3890>,\n",
              "        <matplotlib.axes._subplots.AxesSubplot object at 0x7fd8d037ff10>,\n",
              "        <matplotlib.axes._subplots.AxesSubplot object at 0x7fd8d03405d0>],\n",
              "       [<matplotlib.axes._subplots.AxesSubplot object at 0x7fd8d02f4c50>,\n",
              "        <matplotlib.axes._subplots.AxesSubplot object at 0x7fd8d02b8310>,\n",
              "        <matplotlib.axes._subplots.AxesSubplot object at 0x7fd8d026ca10>,\n",
              "        <matplotlib.axes._subplots.AxesSubplot object at 0x7fd8d0223fd0>],\n",
              "       [<matplotlib.axes._subplots.AxesSubplot object at 0x7fd8d022f090>,\n",
              "        <matplotlib.axes._subplots.AxesSubplot object at 0x7fd8d01e37d0>,\n",
              "        <matplotlib.axes._subplots.AxesSubplot object at 0x7fd8d015b410>,\n",
              "        <matplotlib.axes._subplots.AxesSubplot object at 0x7fd8d0110a90>],\n",
              "       [<matplotlib.axes._subplots.AxesSubplot object at 0x7fd8d00d2150>,\n",
              "        <matplotlib.axes._subplots.AxesSubplot object at 0x7fd8d00877d0>,\n",
              "        <matplotlib.axes._subplots.AxesSubplot object at 0x7fd8d00bde50>,\n",
              "        <matplotlib.axes._subplots.AxesSubplot object at 0x7fd8d0081510>]],\n",
              "      dtype=object)"
            ]
          },
          "metadata": {},
          "execution_count": 8
        },
        {
          "output_type": "display_data",
          "data": {
            "image/png": "[encoded data removed]",
            "text/plain": [
              "<Figure size 864x288 with 16 Axes>"
            ]
          },
          "metadata": {
            "needs_background": "light"
          }
        }
      ]
    },
    {
      "cell_type": "code",
      "metadata": {
        "colab": {
          "base_uri": "https://localhost:8080/"
        },
        "id": "3gaJMW27VXr3",
        "outputId": "ec1f6cd8-cfb7-4123-b5d7-10780680094c"
      },
      "source": [
        "cat = ['sex','smoker','region']\n",
        "insurance_cat = insurance[cat]\n",
        "insurance_cat.info()"
      ],
      "execution_count": 9,
      "outputs": [
        {
          "output_type": "stream",
          "name": "stdout",
          "text": [
            "<class 'pandas.core.frame.DataFrame'>\n",
            "RangeIndex: 1338 entries, 0 to 1337\n",
            "Data columns (total 3 columns):\n",
            " #   Column  Non-Null Count  Dtype \n",
            "---  ------  --------------  ----- \n",
            " 0   sex     1338 non-null   object\n",
            " 1   smoker  1338 non-null   object\n",
            " 2   region  1338 non-null   object\n",
            "dtypes: object(3)\n",
            "memory usage: 31.5+ KB\n"
          ]
        }
      ]
    },
    {
      "cell_type": "code",
      "metadata": {
        "colab": {
          "base_uri": "https://localhost:8080/"
        },
        "id": "Flld1z-6P1IF",
        "outputId": "001f8413-5492-4b86-ceab-d41291aa8dc9"
      },
      "source": [
        "num = ['age','bmi','children']\n",
        "insurance_num = insurance[num]\n",
        "insurance_num.info()"
      ],
      "execution_count": 10,
      "outputs": [
        {
          "output_type": "stream",
          "name": "stdout",
          "text": [
            "<class 'pandas.core.frame.DataFrame'>\n",
            "RangeIndex: 1338 entries, 0 to 1337\n",
            "Data columns (total 3 columns):\n",
            " #   Column    Non-Null Count  Dtype  \n",
            "---  ------    --------------  -----  \n",
            " 0   age       1338 non-null   int64  \n",
            " 1   bmi       1338 non-null   float64\n",
            " 2   children  1338 non-null   int64  \n",
            "dtypes: float64(1), int64(2)\n",
            "memory usage: 31.5 KB\n"
          ]
        }
      ]
    },
    {
      "cell_type": "code",
      "metadata": {
        "id": "TkVGrVJCNkD8"
      },
      "source": [
        "from sklearn.impute import SimpleImputer\n",
        "from sklearn.pipeline import Pipeline\n",
        "from sklearn.preprocessing import StandardScaler\n",
        "num_pipeline = Pipeline([\n",
        "        ('imputer', SimpleImputer(strategy='median')),\n",
        "        ('std_scaler', StandardScaler())\n",
        "    ])"
      ],
      "execution_count": 11,
      "outputs": []
    },
    {
      "cell_type": "code",
      "metadata": {
        "id": "OrlUxyqWPZwr"
      },
      "source": [
        "from sklearn.preprocessing import OneHotEncoder\n",
        "cat_pipeline = Pipeline([\n",
        "        ('imputer', SimpleImputer(strategy='most_frequent')),\n",
        "        ('encoder', OneHotEncoder())                   \n",
        "    ])"
      ],
      "execution_count": 12,
      "outputs": []
    },
    {
      "cell_type": "code",
      "metadata": {
        "colab": {
          "base_uri": "https://localhost:8080/"
        },
        "id": "L87edO1LPtHj",
        "outputId": "b2dd334b-f7cf-4417-fd09-4ea39ca2f621"
      },
      "source": [
        "from sklearn.compose import ColumnTransformer\n",
        "\n",
        "full_pipeline = ColumnTransformer([\n",
        "         (\"num\", num_pipeline, num),\n",
        "         (\"cat\", cat_pipeline, cat)\n",
        "])\n",
        "\n",
        "insurance_prepared = full_pipeline.fit_transform(insurance)\n",
        "print(insurance.shape)\n",
        "print(insurance_prepared.shape)"
      ],
      "execution_count": 13,
      "outputs": [
        {
          "output_type": "stream",
          "name": "stdout",
          "text": [
            "(1338, 7)\n",
            "(1338, 11)\n"
          ]
        }
      ]
    },
    {
      "cell_type": "code",
      "metadata": {
        "colab": {
          "base_uri": "https://localhost:8080/"
        },
        "id": "YEMYgfpnRP8l",
        "outputId": "f7b21581-ffbd-4739-c37f-6e90e5a291c8"
      },
      "source": [
        "insurance_prepared"
      ],
      "execution_count": 14,
      "outputs": [
        {
          "output_type": "execute_result",
          "data": {
            "text/plain": [
              "array([[-1.43876426, -0.45332   , -0.90861367, ...,  0.        ,\n",
              "         0.        ,  1.        ],\n",
              "       [-1.50996545,  0.5096211 , -0.07876719, ...,  0.        ,\n",
              "         1.        ,  0.        ],\n",
              "       [-0.79795355,  0.38330685,  1.58092576, ...,  0.        ,\n",
              "         1.        ,  0.        ],\n",
              "       ...,\n",
              "       [-1.50996545,  1.0148781 , -0.90861367, ...,  0.        ,\n",
              "         1.        ,  0.        ],\n",
              "       [-1.29636188, -0.79781341, -0.90861367, ...,  0.        ,\n",
              "         0.        ,  1.        ],\n",
              "       [ 1.55168573, -0.26138796, -0.90861367, ...,  1.        ,\n",
              "         0.        ,  0.        ]])"
            ]
          },
          "metadata": {},
          "execution_count": 14
        }
      ]
    },
    {
      "cell_type": "code",
      "metadata": {
        "id": "AQCegxHBWEmj"
      },
      "source": [
        "X_train_prepared = full_pipeline.fit_transform(X_train)\n",
        "X_test_prepared = full_pipeline.fit_transform(X_test)"
      ],
      "execution_count": 15,
      "outputs": []
    },
    {
      "cell_type": "code",
      "metadata": {
        "colab": {
          "base_uri": "https://localhost:8080/"
        },
        "id": "2eOS2kb-XUL6",
        "outputId": "06b2537c-02b4-40af-8567-a75c1626780d"
      },
      "source": [
        "X_train_prepared.shape\n"
      ],
      "execution_count": 16,
      "outputs": [
        {
          "output_type": "execute_result",
          "data": {
            "text/plain": [
              "(1070, 11)"
            ]
          },
          "metadata": {},
          "execution_count": 16
        }
      ]
    },
    {
      "cell_type": "code",
      "metadata": {
        "colab": {
          "base_uri": "https://localhost:8080/"
        },
        "id": "MW6Z7U5KX7TK",
        "outputId": "2fb1368d-acf5-47c8-f5f9-480060dc1450"
      },
      "source": [
        "X_test_prepared.shape"
      ],
      "execution_count": 17,
      "outputs": [
        {
          "output_type": "execute_result",
          "data": {
            "text/plain": [
              "(268, 11)"
            ]
          },
          "metadata": {},
          "execution_count": 17
        }
      ]
    },
    {
      "cell_type": "code",
      "metadata": {
        "colab": {
          "base_uri": "https://localhost:8080/"
        },
        "id": "DRTgxiyWlGxm",
        "outputId": "63d0dd13-5e66-4a6e-ac13-7c52a9b36107"
      },
      "source": [
        "X_train_prepared.dtype"
      ],
      "execution_count": 18,
      "outputs": [
        {
          "output_type": "execute_result",
          "data": {
            "text/plain": [
              "dtype('float64')"
            ]
          },
          "metadata": {},
          "execution_count": 18
        }
      ]
    },
    {
      "cell_type": "markdown",
      "metadata": {
        "id": "JRW5HPBzR106"
      },
      "source": [
        "- - -\n",
        "## Task 3. IMPLEMENT GRADIENT DESCENT \n",
        "The gradient descent formulation remain the same as one in the lecture. Keep in mind that you will need to add a column $\\textbf{x}_0$ with all 1s as part of the training data. You should write code to implement the **MyLinearRegression** class and its predefined methods. \n",
        "\n",
        "**Gradient Descent:** Notes that you may NOT call the library linear regression which defeats the purpose of this assignment. Make sure your code is well-vectorized."
      ]
    },
    {
      "cell_type": "code",
      "metadata": {
        "id": "XOhAxyK1R107"
      },
      "source": [
        "# NOTE: You may not use the library Linear Regression, but implement your own!\n",
        "# REMEMBER to place self.attribute = [] with value from your implementation\n",
        "from sklearn.metrics import mean_squared_error\n",
        "\n",
        "class MyLinearRegression:\n",
        "  \"\"\"\n",
        "  Define what a linear regressor can do\n",
        "  \"\"\"\n",
        "\n",
        "  def __init__ (self,alpha=.01):\n",
        "    \"\"\"\n",
        "    Initialize the regressor\n",
        "    \"\"\"\n",
        "    self.theta = np.random.randn(12,1); # parameter vector;\n",
        "    self.alpha = alpha; # learning rate\n",
        "    self.cost  = []; # cost function\n",
        "\n",
        "  def gradientDescent(self, X_train, y_train, theta, alpha, iters):\n",
        "    \"\"\"\n",
        "    Implementatation of the gradient descent\n",
        "    INPUT:\n",
        "    alpha: the learning rate\n",
        "    iters: number of iterations\n",
        "\n",
        "    OUTPUT: \n",
        "    theta: updated value for theta\n",
        "    cost: value of the cost function\n",
        "    \"\"\"\n",
        "    X_rows, X_cols = X_train.shape\n",
        "    cost = []\n",
        "    for iteration in range(iters):\n",
        "      gradients = (2/X_rows) * X_train.T.dot(X_train.dot(theta)-y_train.to_frame())\n",
        "      theta = theta - alpha*gradients\n",
        "      self.theta = theta\n",
        "      cost.append(mean_squared_error(y_train,self.predict(X_train)))\n",
        "    #predictions = self.predict(X_train)\n",
        "    #cost = (np.sum(np.square(y_train.to_frame()-predictions)))/X_rows\n",
        "    #cost = mean_squared_error(y_train,self.predict(X_train))\n",
        "    return theta, cost\n",
        "    # implementation code here\n",
        "\n",
        "  def fitUsingGradientDescent(self, X_train, y_train):\n",
        "    \"\"\"\n",
        "    Train the regressor using gradient descent\n",
        "    \"\"\"\n",
        "    # implementation code here\n",
        "\n",
        "    X = np.c_[np.ones((X_train.shape[0],1)),X_train]\n",
        "    [self.theta, self.cost] = self.gradientDescent(X,y_train, self.theta, self.alpha, 500)\n",
        "\n",
        "\n",
        "  def fitUsingNormalEquation(self, X_train, y_train):\n",
        "    \"\"\"\n",
        "    Training using the Normal (close form) equation\n",
        "    \"\"\"\n",
        "    # implementation code here for Task 4.\n",
        "    X = np.c_[np.ones((X_train.shape[0],1)),X_train]\n",
        "    self.theta = np.linalg.pinv(X.T.dot(X)).dot(X.T).dot(y_train)\n",
        "\n",
        "  def predict(self, X_test):\n",
        "    \"\"\"\n",
        "    Predicting the label\n",
        "    \"\"\"\n",
        "    # implementation code here \n",
        "    #X = np.c_[np.ones((X_test.shape[0],1)),X_test]\n",
        "    y_predict = X_test.dot(self.theta)\n",
        "    return y_predict\n",
        "\n",
        "  def __str__(self):\n",
        "    \"\"\"\n",
        "    Print out the parameter out when call print()\n",
        "    \"\"\"\n",
        "    return \"Parameter vector is \\n\"+str(self.theta)\n",
        "    # implement here to return(\"Parameter vector is %f\" % self.theta)   }\n",
        "    \n",
        "# Your code goes here to call the instance of class MyLinearRegression\n",
        "myGradientDescentModel = MyLinearRegression()\n",
        "#myGradientDescentModel.fitUsingGradientDescent(X_train, y_train)    "
      ],
      "execution_count": 35,
      "outputs": []
    },
    {
      "cell_type": "code",
      "metadata": {
        "colab": {
          "base_uri": "https://localhost:8080/"
        },
        "id": "SnUMELNskPpK",
        "outputId": "e2f833ed-3e73-4ec8-8884-a0981330ead7"
      },
      "source": [
        "print(myGradientDescentModel)"
      ],
      "execution_count": 20,
      "outputs": [
        {
          "output_type": "stream",
          "name": "stdout",
          "text": [
            "Parameter vector is \n",
            "[[ 0.69162068]\n",
            " [ 1.28614846]\n",
            " [ 0.80480318]\n",
            " [ 0.93025335]\n",
            " [ 0.0397417 ]\n",
            " [ 0.01134848]\n",
            " [ 0.26705039]\n",
            " [ 0.73445281]\n",
            " [-0.28331532]\n",
            " [ 0.12205393]\n",
            " [-0.31034562]\n",
            " [ 0.11568482]]\n"
          ]
        }
      ]
    },
    {
      "cell_type": "code",
      "metadata": {
        "id": "kSwYk4aBhMKU"
      },
      "source": [
        "myGradientDescentModel.fitUsingGradientDescent(X_train_prepared, y_train)\n"
      ],
      "execution_count": 21,
      "outputs": []
    },
    {
      "cell_type": "code",
      "metadata": {
        "colab": {
          "base_uri": "https://localhost:8080/"
        },
        "id": "lRZtd9lSx1qG",
        "outputId": "10adfbd5-c13e-446e-e446-bf715b94e86b"
      },
      "source": [
        "mean_squared_error(y_test, myGradientDescentModel.predict(X_test=np.c_[np.ones((X_test_prepared.shape[0],1)),X_test_prepared]))"
      ],
      "execution_count": 22,
      "outputs": [
        {
          "output_type": "execute_result",
          "data": {
            "text/plain": [
              "33633126.62285801"
            ]
          },
          "metadata": {},
          "execution_count": 22
        }
      ]
    },
    {
      "cell_type": "code",
      "metadata": {
        "colab": {
          "base_uri": "https://localhost:8080/"
        },
        "id": "vi0CR0VZz8Xb",
        "outputId": "487472b2-7589-486b-c981-8a7baed0b260"
      },
      "source": [
        "myGradientDescentModel.theta"
      ],
      "execution_count": 23,
      "outputs": [
        {
          "output_type": "execute_result",
          "data": {
            "text/plain": [
              "array([[ 9015.52877095],\n",
              "       [ 3613.93655303],\n",
              "       [ 2030.59260366],\n",
              "       [  518.20241013],\n",
              "       [ 4510.89380669],\n",
              "       [ 4503.99443375],\n",
              "       [-7278.34131977],\n",
              "       [16294.17997323],\n",
              "       [ 2710.91415045],\n",
              "       [ 2322.88145717],\n",
              "       [ 2085.96984076],\n",
              "       [ 1894.71577971]])"
            ]
          },
          "metadata": {},
          "execution_count": 23
        }
      ]
    },
    {
      "cell_type": "code",
      "metadata": {
        "colab": {
          "base_uri": "https://localhost:8080/"
        },
        "id": "Es0rYNf9-wSJ",
        "outputId": "3d6d0c70-f3f4-4d66-a24d-327b5092f0a9"
      },
      "source": [
        "myGradientDescentModel.cost"
      ],
      "execution_count": 24,
      "outputs": [
        {
          "output_type": "execute_result",
          "data": {
            "text/plain": [
              "[305999141.3525554,\n",
              " 291005832.15827537,\n",
              " 277295714.24704075,\n",
              " 264748910.53841856,\n",
              " 253256927.19003543,\n",
              " 242721568.13499936,\n",
              " 233053953.2820143,\n",
              " 224173630.47182497,\n",
              " 216007772.23059648,\n",
              " 208490449.21726957,\n",
              " 201561973.03648812,\n",
              " 195168301.7892003,\n",
              " 189260502.36656788,\n",
              " 183794264.06578666,\n",
              " 178729458.62460956,\n",
              " 174029742.24001506,\n",
              " 169662195.56031042,\n",
              " 165596998.02328923,\n",
              " 161807133.25974253,\n",
              " 158268122.59516603,\n",
              " 154957783.96607322,\n",
              " 151856013.82378313,\n",
              " 148944589.83049718,\n",
              " 146206992.3622514,\n",
              " 143628243.02304974,\n",
              " 141194758.54606998,\n",
              " 138894218.6130174,\n",
              " 136715446.26304978,\n",
              " 134648299.68963486,\n",
              " 132683574.3385021,\n",
              " 130812914.32367964,\n",
              " 129028732.27251479,\n",
              " 127324136.79550456,\n",
              " 125692866.8535788,\n",
              " 124129232.36494823,\n",
              " 122628060.45646437,\n",
              " 121184646.82126585,\n",
              " 119794711.69588347,\n",
              " 118454360.01646209,\n",
              " 117160045.3558019,\n",
              " 115908537.28094763,\n",
              " 114696891.80544807,\n",
              " 113522424.64151475,\n",
              " 112382686.98544358,\n",
              " 111275443.59511128,\n",
              " 110198652.94137307,\n",
              " 109150449.23600636,\n",
              " 108129126.15767398,\n",
              " 107133122.11441022,\n",
              " 106161006.89653727,\n",
              " 105211469.58785196,\n",
              " 104283307.61552441,\n",
              " 103375416.83054966,\n",
              " 102486782.52090213,\n",
              " 101616471.26886998,\n",
              " 100763623.57248074,\n",
              " 99927447.15856054,\n",
              " 99107210.9218701,\n",
              " 98302239.43100469,\n",
              " 97511907.94739206,\n",
              " 96735637.9088303,\n",
              " 95972892.83362931,\n",
              " 95223174.60559878,\n",
              " 94486020.10390776,\n",
              " 93760998.1452607,\n",
              " 93047706.70892982,\n",
              " 92345770.41798292,\n",
              " 91654838.2525783,\n",
              " 90974581.47348909,\n",
              " 90304691.73609288,\n",
              " 89644879.37693675,\n",
              " 88994871.85668527,\n",
              " 88354412.34479322,\n",
              " 87723258.43263456,\n",
              " 87101180.9630743,\n",
              " 86487962.96560857,\n",
              " 85883398.68722555,\n",
              " 85287292.71007146,\n",
              " 84699459.1478483,\n",
              " 84119720.91363198,\n",
              " 83547909.05248898,\n",
              " 82983862.13289489,\n",
              " 82427425.69152214,\n",
              " 81878451.72647628,\n",
              " 81336798.23452243,\n",
              " 80802328.78826262,\n",
              " 80274912.14960419,\n",
              " 79754421.91620176,\n",
              " 79240736.1978673,\n",
              " 78733737.3202226,\n",
              " 78233311.55312426,\n",
              " 77739348.86162144,\n",
              " 77251742.67741512,\n",
              " 76770389.6889773,\n",
              " 76295189.64865893,\n",
              " 75826045.19527125,\n",
              " 75362861.69076502,\n",
              " 74905547.06975962,\n",
              " 74454011.70078899,\n",
              " 74008168.25823623,\n",
              " 73567931.60402235,\n",
              " 73133218.67820175,\n",
              " 72703948.3976929,\n",
              " 72280041.5624448,\n",
              " 71861420.76840264,\n",
              " 71448010.32669358,\n",
              " 71039736.18850744,\n",
              " 70636525.8751928,\n",
              " 70238308.41313383,\n",
              " 69845014.27301082,\n",
              " 69456575.31308424,\n",
              " 69072924.72617298,\n",
              " 68693996.99002793,\n",
              " 68319727.82082736,\n",
              " 67950054.12954599,\n",
              " 67584913.98096983,\n",
              " 67224246.55515054,\n",
              " 66867992.11110951,\n",
              " 66516091.95261923,\n",
              " 66168488.39590431,\n",
              " 65825124.739117146,\n",
              " 65485945.23345702,\n",
              " 65150895.05581149,\n",
              " 64819920.282809235,\n",
              " 64492967.8661834,\n",
              " 64169985.60935225,\n",
              " 63850922.14513212,\n",
              " 63535726.91450414,\n",
              " 63224350.14636322,\n",
              " 62916742.83818307,\n",
              " 62612856.73753646,\n",
              " 62312644.324415,\n",
              " 62016058.79429701,\n",
              " 61723054.04191565,\n",
              " 61433584.64568409,\n",
              " 61147605.85273693,\n",
              " 60865073.5645507,\n",
              " 60585944.32310895,\n",
              " 60310175.297580086,\n",
              " 60037724.27147817,\n",
              " 59768549.63027957,\n",
              " 59502610.34946982,\n",
              " 59239865.98299733,\n",
              " 58980276.65211175,\n",
              " 58723803.0345669,\n",
              " 58470406.354169175,\n",
              " 58220048.370653525,\n",
              " 57972691.36987105,\n",
              " 57728298.15427229,\n",
              " 57486832.03367215,\n",
              " 57248256.816283025,\n",
              " 57012536.800003394,\n",
              " 56779636.76395021,\n",
              " 56549521.96022412,\n",
              " 56322158.10589702,\n",
              " 56097511.37521225,\n",
              " 55875548.39198845,\n",
              " 55656236.222218215,\n",
              " 55439542.36685363,\n",
              " 55225434.75477108,\n",
              " 55013881.735907935,\n",
              " 54804852.074564636,\n",
              " 54598314.94286535,\n",
              " 54394239.914371625,\n",
              " 54192596.95784285,\n",
              " 53993356.43113828,\n",
              " 53796489.0752556,\n",
              " 53601966.008500904,\n",
              " 53409758.720785566,\n",
              " 53219839.068045616,\n",
              " 53032179.26677942,\n",
              " 52846751.88869963,\n",
              " 52663529.855495706,\n",
              " 52482486.433703326,\n",
              " 52303595.22967728,\n",
              " 52126830.18466452,\n",
              " 51952165.569974355,\n",
              " 51779575.98224264,\n",
              " 51609036.33878723,\n",
              " 51440521.87305193,\n",
              " 51274008.13013628,\n",
              " 51109470.9624088,\n",
              " 50946886.52520112,\n",
              " 50786231.27258087,\n",
              " 50627481.953201115,\n",
              " 50470615.606224015,\n",
              " 50315609.5573171,\n",
              " 50162441.4147197,\n",
              " 50011089.06537814,\n",
              " 49861530.671147585,\n",
              " 49713744.665059045,\n",
              " 49567709.74764961,\n",
              " 49423404.88335463,\n",
              " 49280809.29696003,\n",
              " 49139902.47011351,\n",
              " 49000664.13789298,\n",
              " 48863074.28543111,\n",
              " 48727113.14459438,\n",
              " 48592761.190715626,\n",
              " 48459999.13937869,\n",
              " 48328807.94325399,\n",
              " 48199168.78898388,\n",
              " 48071063.09411682,\n",
              " 47944472.50408895,\n",
              " 47819378.889252454,\n",
              " 47695764.34194931,\n",
              " 47573611.17362971,\n",
              " 47452901.912014246,\n",
              " 47333619.29829856,\n",
              " 47215746.28440013,\n",
              " 47099266.030245885,\n",
              " 46984161.90110008,\n",
              " 46870417.464931436,\n",
              " 46758016.48981898,\n",
              " 46646942.94139565,\n",
              " 46537180.98032894,\n",
              " 46428714.95983804,\n",
              " 46321529.42324654,\n",
              " 46215609.101570226,\n",
              " 46110938.91113916,\n",
              " 46007503.951253526,\n",
              " 45905289.501872525,\n",
              " 45804281.02133582,\n",
              " 45704464.14411679,\n",
              " 45605824.67860726,\n",
              " 45508348.60493285,\n",
              " 45412022.072798654,\n",
              " 45316831.39936462,\n",
              " 45222763.06715009,\n",
              " 45129803.72196709,\n",
              " 45037940.1708817,\n",
              " 44947159.38020332,\n",
              " 44857448.47350104,\n",
              " 44768794.72964694,\n",
              " 44681185.580885656,\n",
              " 44594608.61092995,\n",
              " 44509051.553081706,\n",
              " 44424502.28837815,\n",
              " 44340948.84376259,\n",
              " 44258379.39027963,\n",
              " 44176782.241294146,\n",
              " 44096145.85073391,\n",
              " 44016458.8113553,\n",
              " 43937709.85303188,\n",
              " 43859887.84106538,\n",
              " 43782981.77451878,\n",
              " 43706980.784571275,\n",
              " 43631874.13289451,\n",
              " 43557651.210050024,\n",
              " 43484301.53390754,\n",
              " 43411814.748083614,\n",
              " 43340180.62040057,\n",
              " 43269389.04136528,\n",
              " 43199430.022667505,\n",
              " 43130293.695697576,\n",
              " 43061970.31008317,\n",
              " 42994450.2322446,\n",
              " 42927723.94396887,\n",
              " 42861782.041001715,\n",
              " 42796615.23165769,\n",
              " 42732214.335447975,\n",
              " 42668570.28172549,\n",
              " 42605674.10834738,\n",
              " 42543516.9603543,\n",
              " 42482090.08866653,\n",
              " 42421384.848796435,\n",
              " 42361392.69957739,\n",
              " 42302105.20190842,\n",
              " 42243514.01751498,\n",
              " 42185610.907725066,\n",
              " 42128387.732260816,\n",
              " 42071836.44804523,\n",
              " 42015949.10802391,\n",
              " 41960717.860001445,\n",
              " 41906134.94549238,\n",
              " 41852192.69858665,\n",
              " 41798883.544828996,\n",
              " 41746200.00011249,\n",
              " 41694134.66958573,\n",
              " 41642680.24657373,\n",
              " 41591829.51151221,\n",
              " 41541575.33089505,\n",
              " 41491910.65623486,\n",
              " 41442828.523036465,\n",
              " 41394322.04978303,\n",
              " 41346384.43693484,\n",
              " 41299008.96594036,\n",
              " 41252188.99825959,\n",
              " 41205917.97439943,\n",
              " 41160189.41296101,\n",
              " 41114996.90969875,\n",
              " 41070334.13659095,\n",
              " 41026194.840921916,\n",
              " 40982572.84437538,\n",
              " 40939462.04213896,\n",
              " 40896856.40201978,\n",
              " 40854749.96357087,\n",
              " 40813136.837228276,\n",
              " 40772011.20345879,\n",
              " 40731367.311918214,\n",
              " 40691199.48061968,\n",
              " 40651502.095112495,\n",
              " 40612269.60767082,\n",
              " 40573496.53649232,\n",
              " 40535177.464906625,\n",
              " 40497307.04059348,\n",
              " 40459879.97481048,\n",
              " 40422891.04163011,\n",
              " 40386335.07718624,\n",
              " 40350206.97892975,\n",
              " 40314501.70489322,\n",
              " 40279214.27296458,\n",
              " 40244339.76016973,\n",
              " 40209873.301963665,\n",
              " 40175810.09153046,\n",
              " 40142145.37909162,\n",
              " 40108874.47122297,\n",
              " 40075992.73017969,\n",
              " 40043495.57322974,\n",
              " 40011378.471995205,\n",
              " 39979636.95180181,\n",
              " 39948266.59103619,\n",
              " 39917263.02051107,\n",
              " 39886621.92283801,\n",
              " 39856339.03180796,\n",
              " 39826410.131779134,\n",
              " 39796831.05707242,\n",
              " 39767597.69137406,\n",
              " 39738705.96714556,\n",
              " 39710151.865040846,\n",
              " 39681931.41333032,\n",
              " 39654040.68733198,\n",
              " 39626475.808849454,\n",
              " 39599232.94561677,\n",
              " 39572308.31074978,\n",
              " 39545698.16220439,\n",
              " 39519398.8022412,\n",
              " 39493406.57689662,\n",
              " 39467717.87546049,\n",
              " 39442329.12995976,\n",
              " 39417236.814648785,\n",
              " 39392437.44550536,\n",
              " 39367927.57973311,\n",
              " 39343703.81526982,\n",
              " 39319762.79030163,\n",
              " 39296101.18278315,\n",
              " 39272715.70996336,\n",
              " 39249603.12791716,\n",
              " 39226760.23108269,\n",
              " 39204183.85180405,\n",
              " 39181870.85987966,\n",
              " 39159818.16211608,\n",
              " 39138022.70188704,\n",
              " 39116481.45869797,\n",
              " 39095191.4477556,\n",
              " 39074149.719542846,\n",
              " 39053353.359398834,\n",
              " 39032799.48710384,\n",
              " 39012485.256469354,\n",
              " 38992407.854932986,\n",
              " 38972564.50315831,\n",
              " 38952952.454639435,\n",
              " 38933568.99531043,\n",
              " 38914411.44315934,\n",
              " 38895477.14784691,\n",
              " 38876763.49032982,\n",
              " 38858267.8824885,\n",
              " 38839987.76675944,\n",
              " 38821920.61577179,\n",
              " 38804063.93198845,\n",
              " 38786415.247351386,\n",
              " 38768972.12293126,\n",
              " 38751732.14858119,\n",
              " 38734692.94259472,\n",
              " 38717852.1513679,\n",
              " 38701207.44906533,\n",
              " 38684756.53729033,\n",
              " 38668497.14475894,\n",
              " 38652427.02697795,\n",
              " 38636543.965926625,\n",
              " 38620845.76974245,\n",
              " 38605330.27241045,\n",
              " 38589995.33345635,\n",
              " 38574838.83764332,\n",
              " 38559858.69467244,\n",
              " 38545052.838886686,\n",
              " 38530419.22897849,\n",
              " 38515955.84770078,\n",
              " 38501660.70158148,\n",
              " 38487531.82064141,\n",
              " 38473567.258115664,\n",
              " 38459765.09017812,\n",
              " 38446123.41566945,\n",
              " 38432640.35582825,\n",
              " 38419314.05402543,\n",
              " 38406142.67550178,\n",
              " 38393124.40710866,\n",
              " 38380257.45705183,\n",
              " 38367540.05463822,\n",
              " 38354970.45002592,\n",
              " 38342546.913976975,\n",
              " 38330267.737613216,\n",
              " 38318131.232175,\n",
              " 38306135.72878284,\n",
              " 38294279.57820184,\n",
              " 38282561.15060898,\n",
              " 38270978.8353632,\n",
              " 38259531.04077812,\n",
              " 38248216.193897605,\n",
              " 38237032.74027393,\n",
              " 38225979.14374864,\n",
              " 38215053.886235915,\n",
              " 38204255.46750871,\n",
              " 38193582.404987246,\n",
              " 38183033.23353012,\n",
              " 38172606.505227946,\n",
              " 38162300.78919939,\n",
              " 38152114.67138959,\n",
              " 38142046.75437112,\n",
              " 38132095.65714723,\n",
              " 38122260.01495742,\n",
              " 38112538.47908536,\n",
              " 38102929.71666913,\n",
              " 38093432.41051365,\n",
              " 38084045.25890542,\n",
              " 38074766.97542938,\n",
              " 38065596.28878803,\n",
              " 38056531.94262268,\n",
              " 38047572.69533676,\n",
              " 38038717.31992141,\n",
              " 38029964.6037829,\n",
              " 38021313.34857231,\n",
              " 38012762.37001712,\n",
              " 38004310.497754924,\n",
              " 37995956.575168915,\n",
              " 37987699.45922557,\n",
              " 37979538.02031408,\n",
              " 37971471.14208779,\n",
              " 37963497.721307516,\n",
              " 37955616.667686656,\n",
              " 37947826.903738216,\n",
              " 37940127.36462365,\n",
              " 37932516.99800345,\n",
              " 37924994.76388953,\n",
              " 37917559.63449942,\n",
              " 37910210.594112135,\n",
              " 37902946.63892569,\n",
              " 37895766.77691652,\n",
              " 37888670.02770034,\n",
              " 37881655.4223948,\n",
              " 37874722.0034837,\n",
              " 37867868.82468285,\n",
              " 37861094.950807564,\n",
              " 37854399.45764162,\n",
              " 37847781.431807876,\n",
              " 37841239.97064035,\n",
              " 37834774.18205792,\n",
              " 37828383.18443937,\n",
              " 37822066.106500104,\n",
              " 37815822.087170094,\n",
              " 37809650.27547358,\n",
              " 37803549.83040987,\n",
              " 37797519.92083579,\n",
              " 37791559.72534944,\n",
              " 37785668.43217534,\n",
              " 37779845.23905089,\n",
              " 37774089.35311432,\n",
              " 37768399.99079376,\n",
              " 37762776.37769785,\n",
              " 37757217.74850744,\n",
              " 37751723.34686873,\n",
              " 37746292.425287604,\n",
              " 37740924.24502522,\n",
              " 37735618.07599485,\n",
              " 37730373.19665995,\n",
              " 37725188.893933415,\n",
              " 37720064.46307808,\n",
              " 37714999.2076083,\n",
              " 37709992.43919282,\n",
              " 37705043.477558695,\n",
              " 37700151.65039639,\n",
              " 37695316.293266065,\n",
              " 37690536.74950479,\n",
              " 37685812.37013509,\n",
              " 37681142.5137744,\n",
              " 37676526.54654567,\n",
              " 37671963.841989,\n",
              " 37667453.78097435,\n",
              " 37662995.75161525,\n",
              " 37658589.14918357,\n",
              " 37654233.376025245,\n",
              " 37649927.84147705,\n",
              " 37645671.96178435,\n",
              " 37641465.16001978,\n",
              " 37637306.866002955,\n",
              " 37633196.516221076,\n",
              " 37629133.55375051,\n",
              " 37625117.42817925,\n",
              " 37621147.595530376,\n",
              " 37617223.51818634,\n",
              " 37613344.664814174,\n",
              " 37609510.51029161,\n",
              " 37605720.53563402,\n",
              " 37601974.227922276,\n",
              " 37598271.08023141,\n",
              " 37594610.59156023,\n",
              " 37590992.26676152,\n",
              " 37587415.6164734,\n",
              " 37583880.15705123,\n",
              " 37580385.410500444,\n",
              " 37576930.90441013,\n",
              " 37573516.17188744,\n",
              " 37570140.75149275,\n",
              " 37566804.18717554,\n",
              " 37563506.02821115,\n",
              " 37560245.82913814,\n",
              " 37557023.14969652,\n",
              " 37553837.55476662,\n",
              " 37550688.614308715,\n",
              " 37547575.90330335,\n",
              " 37544499.001692414,\n",
              " 37541457.49432087,\n",
              " 37538450.970879145,\n",
              " 37535479.02584627,\n",
              " 37532541.25843365,\n",
              " 37529637.27252952,\n",
              " 37526766.67664397,\n",
              " 37523929.083854824,\n",
              " 37521124.11175389,\n",
              " 37518351.38239405,\n",
              " 37515610.522236906,\n",
              " 37512901.162101015,\n",
              " 37510222.93711079,\n",
              " 37507575.486645915,\n",
              " 37504958.454291515,\n",
              " 37502371.48778874,\n",
              " 37499814.238986045,\n",
              " 37497286.36379098,\n",
              " 37494787.52212262,\n",
              " 37492317.37786445,\n",
              " 37489875.59881796,\n",
              " 37487461.856656596,\n",
              " 37485075.82688044,\n",
              " 37482717.18877127,\n",
              " 37480385.625348285,\n",
              " 37478080.82332423,\n",
              " 37475802.473062135,\n",
              " 37473550.26853248,\n",
              " 37471323.90727095,\n",
              " 37469123.090336666,\n",
              " 37466947.522270784,\n",
              " 37464796.91105582,\n",
              " 37462670.96807522,\n",
              " 37460569.40807359,\n",
              " 37458491.9491172,\n",
              " 37456438.312555216,\n",
              " 37454408.22298109,\n",
              " 37452401.40819467,\n",
              " 37450417.59916456,\n",
              " 37448456.529991046,\n",
              " 37446517.93786941,\n",
              " 37444601.56305367,\n",
              " 37442707.148820765,\n",
              " 37440834.44143517,\n",
              " 37438983.19011389,\n",
              " 37437153.14699189,\n",
              " 37435344.06708798,\n",
              " 37433555.70827097,\n",
              " 37431787.831226386,\n",
              " 37430040.19942346,\n",
              " 37428312.579082556,\n",
              " 37426604.739142954,\n",
              " 37424916.451231085,\n",
              " 37423247.489629,\n",
              " 37421597.631243356,\n",
              " 37419966.65557472,\n",
              " 37418354.34468715,\n",
              " 37416760.483178265,\n",
              " 37415184.85814958,\n",
              " 37413627.25917726,\n",
              " 37412087.47828308,\n",
              " 37410565.30990592,\n",
              " 37409060.55087343,\n",
              " 37407573.00037414,\n",
              " 37406102.45992984,\n",
              " 37404648.733368255,\n",
              " 37403211.626796156,\n",
              " 37401790.94857266,\n",
              " 37400386.5092829,\n",
              " 37398998.12171206,\n",
              " 37397625.60081959,\n",
              " 37396268.76371383,\n",
              " 37394927.42962688,\n",
              " 37393601.41988981,\n",
              " 37392290.55790807,\n",
              " 37390994.66913734,\n",
              " 37389713.58105946,\n",
              " 37388447.1231589,\n",
              " 37387195.12689922,\n",
              " 37385957.42570005,\n",
              " 37384733.8549142,\n",
              " 37383524.251805075,\n",
              " 37382328.45552441,\n",
              " 37381146.30709014,\n",
              " 37379977.64936466,\n",
              " 37378822.32703328,\n",
              " 37377680.18658293,\n",
              " 37376551.07628114,\n",
              " 37375434.8461552,\n",
              " 37374331.34797171,\n",
              " 37373240.43521619,\n",
              " 37372161.96307307,\n",
              " 37371095.78840582,\n",
              " 37370041.76973741,\n",
              " 37368999.76723087,\n",
              " 37367969.64267022,\n",
              " 37366951.25944151,\n",
              " 37365944.48251417,\n",
              " 37364949.17842248,\n",
              " 37363965.21524738,\n",
              " 37362992.462598376,\n",
              " 37362030.79159573,\n",
              " 37361080.07485286,\n",
              " 37360140.18645886,\n",
              " 37359211.001961395,\n",
              " 37358292.39834958,\n",
              " 37357384.25403726,\n",
              " 37356486.448846355,\n",
              " 37355598.86399044,\n",
              " 37354721.382058546,\n",
              " 37353853.8869991,\n",
              " 37352996.26410413,\n",
              " 37352148.39999351,\n",
              " 37351310.182599604,\n",
              " 37350481.50115187,\n",
              " 37349662.24616179,\n",
              " 37348852.30940792,\n",
              " 37348051.58392116,\n",
              " 37347259.9639701,\n",
              " 37346477.34504668,\n",
              " 37345703.62385184,\n",
              " 37344938.69828155,\n",
              " 37344182.467412785,\n",
              " 37343434.83148986,\n",
              " 37342695.69191077,\n",
              " 37341964.9512138,\n",
              " 37341242.51306421,\n",
              " 37340528.28224115,\n",
              " 37339822.164624654,\n",
              " 37339124.067182854,\n",
              " 37338433.89795931,\n",
              " 37337751.566060476,\n",
              " 37337076.981643334,\n",
              " 37336410.05590319,\n",
              " 37335750.70106155,\n",
              " 37335098.8303542,\n",
              " 37334454.358019434,\n",
              " 37333817.19928634,\n",
              " 37333187.27036329,\n",
              " 37332564.488426566,\n",
              " 37331948.77160905,\n",
              " 37331340.0389892,\n",
              " 37330738.21057992,\n",
              " 37330143.20731778,\n",
              " 37329554.951052256,\n",
              " 37328973.36453512,\n",
              " 37328398.371409915,\n",
              " 37327829.89620163,\n",
              " 37327267.86430644,\n",
              " 37326712.20198153,\n",
              " 37326162.8363352,\n",
              " 37325619.695316814,\n",
              " 37325082.70770718,\n",
              " 37324551.80310879,\n",
              " 37324026.911936305,\n",
              " 37323507.9654071,\n",
              " 37322994.89553198,\n",
              " 37322487.6351059,\n",
              " 37321986.117698915,\n",
              " 37321490.27764711,\n",
              " 37321000.05004378,\n",
              " 37320515.370730564,\n",
              " 37320036.17628881,\n",
              " 37319562.40403094,\n",
              " 37319093.991992,\n",
              " 37318630.878921226,\n",
              " 37318173.00427378,\n",
              " 37317720.30820257,\n",
              " 37317272.731550105,\n",
              " 37316830.21584055,\n",
              " 37316392.7032717,\n",
              " 37315960.13670736,\n",
              " 37315532.459669374,\n",
              " 37315109.6163302,\n",
              " 37314691.55150523,\n",
              " 37314278.21064537,\n",
              " 37313869.53982969,\n",
              " 37313465.485758096,\n",
              " 37313065.995744154,\n",
              " 37312671.01770795,\n",
              " 37312280.50016912,\n",
              " 37311894.39223979,\n",
              " 37311512.64361777,\n",
              " 37311135.20457979,\n",
              " 37310762.025974706,\n",
              " 37310393.059216976,\n",
              " 37310028.25627996,\n",
              " 37309667.56968959,\n",
              " 37309310.952517845,\n",
              " 37308958.3583765,\n",
              " 37308609.741410844,\n",
              " 37308265.05629347,\n",
              " 37307924.258218236,\n",
              " 37307587.30289413,\n",
              " 37307254.146539375,\n",
              " 37306924.74587551,\n",
              " 37306599.05812154,\n",
              " 37306277.04098819,\n",
              " 37305958.65267224,\n",
              " 37305643.85185082,\n",
              " 37305332.597675905,\n",
              " 37305024.84976881,\n",
              " 37304720.568214744,\n",
              " 37304419.71355745,\n",
              " 37304122.24679388,\n",
              " 37303828.129368946,\n",
              " 37303537.32317037,\n",
              " 37303249.79052354,\n",
              " 37302965.4941864,\n",
              " 37302684.397344515,\n",
              " 37302406.4636061,\n",
              " 37302131.65699709,\n",
              " 37301859.94195636,\n",
              " 37301591.28333094,\n",
              " 37301325.64637124,\n",
              " 37301062.99672644,\n",
              " 37300803.30043988,\n",
              " 37300546.52394446,\n",
              " 37300292.63405817,\n",
              " 37300041.59797962,\n",
              " 37299793.38328364,\n",
              " 37299547.95791693,\n",
              " 37299305.290193774,\n",
              " 37299065.348791786,\n",
              " 37298828.10274771,\n",
              " 37298593.52145323,\n",
              " 37298361.574650936,\n",
              " 37298132.232430235,\n",
              " 37297905.46522331,\n",
              " 37297681.24380125,\n",
              " 37297459.539270036,\n",
              " 37297240.32306671,\n",
              " 37297023.56695561,\n",
              " 37296809.243024446,\n",
              " 37296597.32368074,\n",
              " 37296387.781647995,\n",
              " 37296180.589962125,\n",
              " 37295975.721967794,\n",
              " 37295773.15131491,\n",
              " 37295572.85195502,\n",
              " 37295374.79813794,\n",
              " 37295178.964408204,\n",
              " 37294985.32560171,\n",
              " 37294793.85684238,\n",
              " 37294604.53353877,\n",
              " 37294417.331380874,\n",
              " 37294232.22633679,\n",
              " 37294049.19464957,\n",
              " 37293868.21283402,\n",
              " 37293689.25767359,\n",
              " 37293512.306217216,\n",
              " 37293337.33577636,\n",
              " 37293164.32392186,\n",
              " 37292993.24848108,\n",
              " 37292824.08753479,\n",
              " 37292656.8194144,\n",
              " 37292491.42269896,\n",
              " 37292327.87621233,\n",
              " 37292166.159020424,\n",
              " 37292006.25042833,\n",
              " 37291848.12997761,\n",
              " 37291691.77744356,\n",
              " 37291537.17283248,\n",
              " 37291384.29637909,\n",
              " 37291233.128543824,\n",
              " 37291083.650010295,\n",
              " 37290935.841682665,\n",
              " 37290789.684683114,\n",
              " 37290645.16034939,\n",
              " 37290502.25023226,\n",
              " 37290360.93609305,\n",
              " 37290221.199901305,\n",
              " 37290083.02383229,\n",
              " 37289946.39026469,\n",
              " 37289811.281778246,\n",
              " 37289677.681151435,\n",
              " 37289545.571359195,\n",
              " 37289414.935570665,\n",
              " 37289285.75714692,\n",
              " 37289158.0196388,\n",
              " 37289031.70678471,\n",
              " 37288906.80250849,\n",
              " 37288783.29091722,\n",
              " 37288661.156299174,\n",
              " 37288540.383121714,\n",
              " 37288420.9560292,\n",
              " 37288302.859841004,\n",
              " 37288186.079549484,\n",
              " 37288070.600318,\n",
              " 37287956.40747888,\n",
              " 37287843.48653157,\n",
              " 37287731.823140725,\n",
              " 37287621.40313417,\n",
              " 37287512.21250118,\n",
              " 37287404.237390555,\n",
              " 37287297.46410877,\n",
              " 37287191.87911822,\n",
              " 37287087.469035365,\n",
              " 37286984.22062902,\n",
              " 37286882.12081856,\n",
              " 37286781.156672224,\n",
              " 37286681.31540536,\n",
              " 37286582.58437882,\n",
              " 37286484.951097175,\n",
              " 37286388.40320715,\n",
              " 37286292.928496,\n",
              " 37286198.514889814,\n",
              " 37286105.15045199,\n",
              " 37286012.823381655,\n",
              " 37285921.52201207,\n",
              " 37285831.234809145,\n",
              " 37285741.95036986,\n",
              " 37285653.65742079,\n",
              " 37285566.34481665,\n",
              " 37285480.00153874,\n",
              " 37285394.616693586,\n",
              " 37285310.17951145,\n",
              " 37285226.67934493,\n",
              " 37285144.10566754,\n",
              " 37285062.448072344,\n",
              " 37284981.69627058,\n",
              " 37284901.8400903,\n",
              " 37284822.869475015,\n",
              " 37284744.774482414,\n",
              " 37284667.54528304,\n",
              " 37284591.17215897,\n",
              " 37284515.64550257,\n",
              " 37284440.95581518,\n",
              " 37284367.09370596,\n",
              " 37284294.04989056,\n",
              " 37284221.815189965,\n",
              " 37284150.38052924,\n",
              " 37284079.736936375,\n",
              " 37284009.87554109,\n",
              " 37283940.78757366,\n",
              " 37283872.464363806,\n",
              " 37283804.89733949,\n",
              " 37283738.078025885,\n",
              " 37283671.99804413,\n",
              " 37283606.64911038,\n",
              " 37283542.023034595,\n",
              " 37283478.11171955,\n",
              " 37283414.90715972,\n",
              " 37283352.40144028,\n",
              " 37283290.586736016,\n",
              " 37283229.45531033,\n",
              " 37283168.99951423,\n",
              " 37283109.21178532,\n",
              " 37283050.084646784,\n",
              " 37282991.61070648,\n",
              " 37282933.78265589,\n",
              " 37282876.5932692,\n",
              " 37282820.03540238,\n",
              " 37282764.101992205,\n",
              " 37282708.78605535,\n",
              " 37282654.080687486,\n",
              " 37282599.97906236,\n",
              " 37282546.47443093,\n",
              " 37282493.560120456,\n",
              " 37282441.22953363,\n",
              " 37282389.47614773,\n",
              " 37282338.29351376,\n",
              " 37282287.675255634,\n",
              " 37282237.61506926,\n",
              " 37282188.10672186,\n",
              " 37282139.144051,\n",
              " 37282090.720963895,\n",
              " 37282042.831436574,\n",
              " 37281995.46951311,\n",
              " 37281948.62930482,\n",
              " 37281902.30498953,\n",
              " 37281856.49081078,\n",
              " 37281811.18107711,\n",
              " 37281766.370161265,\n",
              " 37281722.05249958,\n",
              " 37281678.222591095,\n",
              " 37281634.87499694,\n",
              " 37281592.00433963,\n",
              " 37281549.605302334,\n",
              " 37281507.67262819,\n",
              " 37281466.20111961,\n",
              " 37281425.18563763,\n",
              " 37281384.62110124,\n",
              " 37281344.5024867,\n",
              " 37281304.8248269,\n",
              " 37281265.58321074,\n",
              " 37281226.772782445,\n",
              " 37281188.38874096,\n",
              " 37281150.42633932,\n",
              " 37281112.880884096,\n",
              " 37281075.74773465,\n",
              " 37281039.022302665,\n",
              " 37281002.700051464,\n",
              " 37280966.776495494,\n",
              " 37280931.247199684,\n",
              " 37280896.107778884,\n",
              " 37280861.35389733,\n",
              " 37280826.981268056,\n",
              " 37280792.985652305,\n",
              " 37280759.36285906,\n",
              " 37280726.10874445,\n",
              " 37280693.21921121,\n",
              " 37280660.69020815,\n",
              " 37280628.517729685,\n",
              " 37280596.69781525,\n",
              " 37280565.2265488,\n",
              " 37280534.100058354,\n",
              " 37280503.31451541,\n",
              " 37280472.86613456,\n",
              " 37280442.7511729,\n",
              " 37280412.96592958,\n",
              " 37280383.50674537,\n",
              " 37280354.370002106,\n",
              " 37280325.55212231,\n",
              " 37280297.04956865,\n",
              " 37280268.85884355,\n",
              " 37280240.9764887,\n",
              " 37280213.39908459,\n",
              " 37280186.12325015,\n",
              " 37280159.14564223,\n",
              " 37280132.4629552,\n",
              " 37280106.07192052,\n",
              " 37280079.96930637,\n",
              " 37280054.15191716,\n",
              " 37280028.61659313,\n",
              " 37280003.36020999,\n",
              " 37279978.37967846,\n",
              " 37279953.67194393,\n",
              " 37279929.23398606,\n",
              " 37279905.062818296,\n",
              " 37279881.155487634,\n",
              " 37279857.50907413,\n",
              " 37279834.12069059,\n",
              " 37279810.98748213,\n",
              " 37279788.1066259,\n",
              " 37279765.47533064,\n",
              " 37279743.09083636,\n",
              " 37279720.950413994,\n",
              " 37279699.05136503,\n",
              " 37279677.39102117,\n",
              " 37279655.96674398,\n",
              " 37279634.77592457,\n",
              " 37279613.81598325,\n",
              " 37279593.0843692,\n",
              " 37279572.57856012,\n",
              " 37279552.29606198,\n",
              " 37279532.23440859,\n",
              " 37279512.39116138,\n",
              " 37279492.76390907,\n",
              " 37279473.3502673,\n",
              " 37279454.147878386,\n",
              " 37279435.15441103,\n",
              " 37279416.36755994,\n",
              " 37279397.78504564,\n",
              " 37279379.40461408,\n",
              " 37279361.224036455,\n",
              " 37279343.24110881,\n",
              " 37279325.45365183,\n",
              " 37279307.85951053,\n",
              " 37279290.456554,\n",
              " 37279273.24267514,\n",
              " 37279256.21579035,\n",
              " 37279239.373839304,\n",
              " 37279222.71478466,\n",
              " 37279206.236611836,\n",
              " 37279189.93732872,\n",
              " 37279173.81496541,\n",
              " 37279157.867574014,\n",
              " 37279142.09322833,\n",
              " 37279126.49002369,\n",
              " 37279111.05607661,\n",
              " 37279095.78952463,\n",
              " 37279080.68852607,\n",
              " 37279065.75125976,\n",
              " 37279050.97592486,\n",
              " 37279036.36074052,\n",
              " 37279021.90394584,\n",
              " 37279007.603799455,\n",
              " 37278993.45857944,\n",
              " 37278979.46658305]"
            ]
          },
          "metadata": {},
          "execution_count": 24
        }
      ]
    },
    {
      "cell_type": "markdown",
      "metadata": {
        "id": "9mbKbih2R109"
      },
      "source": [
        "* **Learning Rate:** You will try out different learning rates for the dataset and find a learning rate that converges quickly. If you pick a learning rate, your plot of Cost Function $J(\\theta)$ against number of iteration will quickly decay to a small value. This also indicates that your implementation is correct. If your learning rate is too large, the cost function $J(\\theta)$ can diverge and blow up. From the below plot, you must be able to report the best learning rate the you found to earn credit for this section."
      ]
    },
    {
      "cell_type": "code",
      "metadata": {
        "id": "sBdljd94R109",
        "colab": {
          "base_uri": "https://localhost:8080/",
          "height": 295
        },
        "outputId": "4a2fbdee-639e-4c2f-c2cf-ed000479892b"
      },
      "source": [
        "# Use the following code to plot out your learning rate\n",
        "# iters and cost must be supplied to plot out the cost function\n",
        "# You must plot multiple curves corresponding to different learning rates to justify the best one.\n",
        "#\n",
        "def plot_gradient_descent(eta):\n",
        "    plotGradientDescentModel = MyLinearRegression(alpha=eta)\n",
        "    plotGradientDescentModel.fitUsingGradientDescent(X_train_prepared, y_train)\n",
        "    plt.plot(np.sqrt(plotGradientDescentModel.cost),label=eta)\n",
        "    plt.xlabel('Iterations')  \n",
        "    plt.title('Error vs. Training Iterations') \n",
        "\n",
        "plt.figure()\n",
        "#plt.subplot(131); \n",
        "plot_gradient_descent(0.02)\n",
        "#plt.ylabel(\"Cost\", rotation=0, fontsize=18)\n",
        "#plt.subplot(132); \n",
        "plot_gradient_descent(0.1, )\n",
        "#plt.subplot(133); \n",
        "plot_gradient_descent(eta=0.2)\n",
        "plot_gradient_descent(eta=.3) \n",
        "plot_gradient_descent(eta=.4) \n",
        "plt.legend()\n",
        "\n",
        "plt.show()\n",
        "\n",
        "\n"
      ],
      "execution_count": 37,
      "outputs": [
        {
          "output_type": "display_data",
          "data": {
            "image/png": "[encoded data removed]",
            "text/plain": [
              "<Figure size 432x288 with 1 Axes>"
            ]
          },
          "metadata": {
            "needs_background": "light"
          }
        }
      ]
    },
    {
      "cell_type": "markdown",
      "metadata": {
        "id": "bbfMmVGPfr-M"
      },
      "source": [
        "Best learning rate found: .3"
      ]
    },
    {
      "cell_type": "markdown",
      "metadata": {
        "id": "_OSBr-iNR10_"
      },
      "source": [
        "- - -\n",
        "## Task 4. IMPLEMENT THE NORMAL EQUATION"
      ]
    },
    {
      "cell_type": "markdown",
      "metadata": {
        "id": "8Pnn0NEhR10_"
      },
      "source": [
        "In my lecture, you learn that the closed form solution of linear regression using the normal equation formulation. Using the formula does not require any feature scaling, and should be straight forward to implement: \n",
        "\n",
        "$\n",
        "    \\mathbf{\\theta} = ({\\mathbf{X}^{T}\\mathbf{X}})^{-1}\\mathbf{X}^{T}\\mathbf{y}.\n",
        "$\n",
        "\n",
        "Note that you still need to add a column of 1's to the $\\mathbf{\n",
        "X}$ matrix to have an intercept term."
      ]
    },
    {
      "cell_type": "code",
      "metadata": {
        "id": "X4t5jNtbR11B"
      },
      "source": [
        "# Implement the normalEquation method of the MyLinearRegression Class before execute the code below:\n",
        "myNormalEquationModel = MyLinearRegression()\n",
        "myNormalEquationModel.fitUsingNormalEquation(X_train_prepared, y_train)"
      ],
      "execution_count": 26,
      "outputs": []
    },
    {
      "cell_type": "code",
      "metadata": {
        "colab": {
          "base_uri": "https://localhost:8080/"
        },
        "id": "B1K_fkyxrtMT",
        "outputId": "2d0f16cc-a5e5-4ad6-bbea-c38936178e28"
      },
      "source": [
        "mean_squared_error(y_test, myNormalEquationModel.predict(X_test=np.c_[np.ones((X_test_prepared.shape[0],1)),X_test_prepared]))"
      ],
      "execution_count": 29,
      "outputs": [
        {
          "output_type": "execute_result",
          "data": {
            "text/plain": [
              "33585879.16826562"
            ]
          },
          "metadata": {},
          "execution_count": 29
        }
      ]
    },
    {
      "cell_type": "markdown",
      "metadata": {
        "id": "m5el9T4eR11D"
      },
      "source": [
        "- - -\n",
        "## Task 5. COMPARE DIFFERENT IMPLEMENTATIONS "
      ]
    },
    {
      "cell_type": "markdown",
      "metadata": {
        "id": "ScvMKU-zR11D"
      },
      "source": [
        "You should be able to evaluate and compare your gradient descent as well as normal equation implementation of linear regression. In theory, they should be the same, or at least similar. For good measures, you must use the built-in library **Scholastic Gradient Descent (SGD)** as a third model for comparison. For each model, you must compute the RMSE on the **test set** as performance measure. The good news is that you can call library functions to compute these as shown below instead of writing your own code:\n",
        "\n",
        "* Which one yields the best performance measure for your dataset?\n",
        "* What is your assessment of the error? Good? Okay? Terrible?"
      ]
    },
    {
      "cell_type": "code",
      "metadata": {
        "id": "wtvlmtyCR11E",
        "colab": {
          "base_uri": "https://localhost:8080/"
        },
        "outputId": "5779de3d-b1ab-4c6f-8717-8f922f78eeeb"
      },
      "source": [
        "from sklearn.metrics import mean_squared_error\n",
        "\n",
        "# Use the built-in SGD Regressor model\n",
        "from sklearn.linear_model import SGDRegressor\n",
        "mySGDModel = SGDRegressor()\n",
        "mySGDModel.fit(X_train_prepared,y_train)\n",
        "y_predict = mySGDModel.predict(X_test_prepared)\n",
        "mse = mean_squared_error(y_test, y_predict)\n",
        "mySGDModel_rmse = np.sqrt(mse)\n",
        "print(mySGDModel_rmse)\n",
        "\n",
        "# myGDModel_rmse  \n",
        "testGradientDescentModel = MyLinearRegression(alpha=.3)\n",
        "testGradientDescentModel.fitUsingGradientDescent(X_train_prepared,y_train)\n",
        "y_predict = testGradientDescentModel.predict(np.c_[np.ones((X_test_prepared.shape[0],1)),X_test_prepared])\n",
        "mse = mean_squared_error(y_test, y_predict)\n",
        "myGDModel_rmse = np.sqrt(mse)\n",
        "print(myGDModel_rmse)\n",
        "# myNormalEquationModel_rmse \n",
        "testNormalEquationModel = MyLinearRegression()\n",
        "testNormalEquationModel.fitUsingNormalEquation(X_train_prepared,y_train)\n",
        "y_predict = testNormalEquationModel.predict(np.c_[np.ones((X_test_prepared.shape[0],1)),X_test_prepared])\n",
        "mse = mean_squared_error(y_test, y_predict)\n",
        "myNEModel_rmse = np.sqrt(mse)\n",
        "print(myNEModel_rmse)\n",
        "\n"
      ],
      "execution_count": 44,
      "outputs": [
        {
          "output_type": "stream",
          "name": "stdout",
          "text": [
            "5805.435749648635\n",
            "5795.332533018759\n",
            "5795.332533018758\n"
          ]
        }
      ]
    },
    {
      "cell_type": "markdown",
      "metadata": {
        "id": "YLWhxlLkcB_7"
      },
      "source": [
        "Our custom methods have better RMSE than the sklearn SGD method"
      ]
    },
    {
      "cell_type": "markdown",
      "metadata": {
        "id": "vmaBPxD_R11G"
      },
      "source": [
        "- - -\n",
        "## Task 6. PRESENT YOUR SOLUTION "
      ]
    },
    {
      "cell_type": "markdown",
      "metadata": {
        "id": "zI7TNvZsR11H"
      },
      "source": [
        "Now that you need to write a short memo of one paragraph to be read by a non-technical audience (ie. your manager/boss). Focus on answering the following: \n",
        "\n",
        "* How can you pitch your solution to this project? \n",
        "* What did you learn so far about the problem?\n",
        "* Is there any insight moving forward to improve the solution."
      ]
    },
    {
      "cell_type": "markdown",
      "metadata": {
        "id": "BndKDacchPBJ"
      },
      "source": [
        "For this project, we implemented two methods of linear regression, in attempt to predict insurance costs. After cleaning and preparing the data, we fit parameters using our custom-written gradient descent algorithm and normal equation. The average errors of both methods were compared with sklearn's built-in schoastic gradient descent regressor on the test dataset. We found that our custom linear regression approaches had a lower RMSE than the built-in sklearn functionality. We also plotted the iteration v cost curve for different learning rates, and found that .3 was the most optimal. Moving forward, we could improve our linear regularization clas by implementing a decaying learning-rate, to get to convergence faster."
      ]
    },
    {
      "cell_type": "markdown",
      "metadata": {
        "id": "I1vTd45lR11J"
      },
      "source": [
        "- - - \n",
        "### NEED HELP?"
      ]
    },
    {
      "cell_type": "markdown",
      "metadata": {
        "id": "ionUS2eLR11K"
      },
      "source": [
        "In case you get stuck in any step in the process, you may find some useful information from:\n",
        "\n",
        " * Consult my [slides](https://docs.google.com/presentation/d/10D1he89peAWaFgjtZlHpUzvOOAie_vIFT95htKCKgc0/edit?usp=sharing) and/or the textbook\n",
        " * Talk to the TA, they are available and there to help you during [office hour](http://bit.ly/cs4774oh)\n",
        " * Come talk to me or email me <nn4pj@virginia.edu> with subject starting \"CS4774 Assignment 1:...\".\n",
        "\n",
        "Best of luck and have fun!"
      ]
    }
  ]
}