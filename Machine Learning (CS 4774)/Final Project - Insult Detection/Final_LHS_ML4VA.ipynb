{
  "nbformat": 4,
  "nbformat_minor": 0,
  "metadata": {
    "colab": {
      "name": "Final LHS-ML4VA.ipynb",
      "provenance": [],
      "collapsed_sections": [
        "_Ra6lZXq5SUH",
        "Vj3BlZS3Mb3Q",
        "NWGW3E0zcnQ-",
        "OAAwGzq1cump",
        "WYVoSxf2cTSO",
        "Vr35Ds4X5kd_",
        "OpjZ70xM5upc",
        "hpGXg0TH4p-u",
        "hf8okYRn8Aw-",
        "9kDZRqaHjoSR",
        "pSCXk4JsjqIF",
        "tZ6AHv8I8Gr4",
        "TEQ2FYqM8Gr4",
        "_GHAQ1Um8Gr4",
        "wTS67N1f_tlL",
        "n2gltxGa_z5P"
      ]
    },
    "kernelspec": {
      "name": "python3",
      "display_name": "Python 3"
    },
    "language_info": {
      "name": "python"
    }
  },
  "cells": [
    {
      "cell_type": "markdown",
      "metadata": {
        "id": "snI6aM4CjtJq"
      },
      "source": [
        "![ML4VA Picture](https://nuedusec.com/blog/wp-content/uploads/2019/11/cyberbullying.png)"
      ]
    },
    {
      "cell_type": "markdown",
      "metadata": {
        "id": "o6JfdPcdHtHa"
      },
      "source": [
        "# Watch Your Mouth, Virginia\n",
        "\n",
        "**Machine Learning for Virginia**\n",
        "\n",
        "Kyle Cheng, kwc9ap  \n",
        "Iain Muir, iam9ez  \n",
        "Boris Topalov, bnt4yb  \n",
        "\n",
        "This project analyzes offensive language on the internet through the lens of Machine Learning. We use Natural Language Processing (NLP) models to categorize text commentary taken from social media websites into two categories: offensive language and non-offensive language."
      ]
    },
    {
      "cell_type": "markdown",
      "metadata": {
        "id": "_Ra6lZXq5SUH"
      },
      "source": [
        "# 1) Import Data"
      ]
    },
    {
      "cell_type": "markdown",
      "metadata": {
        "id": "Vj3BlZS3Mb3Q"
      },
      "source": [
        "## **Download from Kaggle**\n",
        "First we will download the dataset from Kaggle.\n",
        "\n",
        "In order to do this you must obtain an API key from Kaggle. \n",
        "\n",
        "Go to [Kaggle](https://kaggle.com) and log in, then click on your circular profile icon in the top right corner, and then click on account and scroll down to API and click Create new API Token."
      ]
    },
    {
      "cell_type": "code",
      "metadata": {
        "colab": {
          "resources": {
            "http://localhost:8080/nbextensions/google.colab/files.js": {
              "data": "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",
              "ok": true,
              "headers": [
                [
                  "content-type",
                  "application/javascript"
                ]
              ],
              "status": 200,
              "status_text": ""
            }
          },
          "base_uri": "https://localhost:8080/",
          "height": 74
        },
        "id": "DiAQ83_AkVPe",
        "outputId": "cfd343c7-61b0-466a-a059-2f73300377bd"
      },
      "source": [
        "!pip install -q kaggle\n",
        "from google.colab import files\n",
        "\n",
        "# upload the kaggle.json file downloaded when you obtained the API key \n",
        "# in the steps described above \n",
        "files.upload() \n",
        "\n",
        "!rm -r ~/.kaggle\n",
        "!mkdir ~/.kaggle\n",
        "!mv ./kaggle.json ~/.kaggle/\n",
        "!chmod 600 ~/.kaggle/kaggle.json"
      ],
      "execution_count": 101,
      "outputs": [
        {
          "output_type": "display_data",
          "data": {
            "text/html": [
              "\n",
              "     <input type=\"file\" id=\"files-4ed5fb5a-bcfc-419f-97c4-11436bb79b78\" name=\"files[]\" multiple disabled\n",
              "        style=\"border:none\" />\n",
              "     <output id=\"result-4ed5fb5a-bcfc-419f-97c4-11436bb79b78\">\n",
              "      Upload widget is only available when the cell has been executed in the\n",
              "      current browser session. Please rerun this cell to enable.\n",
              "      </output>\n",
              "      <script src=\"/nbextensions/google.colab/files.js\"></script> "
            ],
            "text/plain": [
              "<IPython.core.display.HTML object>"
            ]
          },
          "metadata": {}
        },
        {
          "output_type": "stream",
          "name": "stdout",
          "text": [
            "Saving kaggle.json to kaggle.json\n"
          ]
        }
      ]
    },
    {
      "cell_type": "code",
      "metadata": {
        "colab": {
          "base_uri": "https://localhost:8080/"
        },
        "id": "8KMqrM0loEv2",
        "outputId": "04b3a2f9-4cb2-4353-f40d-00351fa3d6fd"
      },
      "source": [
        "!mkdir /content/insults\n",
        "!kaggle competitions download -c detecting-insults-in-social-commentary -p /content/insults"
      ],
      "execution_count": 102,
      "outputs": [
        {
          "output_type": "stream",
          "name": "stdout",
          "text": [
            "mkdir: cannot create directory ‘/content/insults’: File exists\n",
            "Warning: Looks like you're using an outdated API Version, please consider updating (server 1.5.12 / client 1.5.4)\n",
            "sample_submission_null.csv: Skipping, found more recently modified local copy (use --force to force download)\n",
            "test.csv: Skipping, found more recently modified local copy (use --force to force download)\n",
            "test_with_solutions.csv: Skipping, found more recently modified local copy (use --force to force download)\n",
            "impermium_verification_labels.csv: Skipping, found more recently modified local copy (use --force to force download)\n",
            "train.csv: Skipping, found more recently modified local copy (use --force to force download)\n",
            "impermium_verification_set.csv: Skipping, found more recently modified local copy (use --force to force download)\n"
          ]
        }
      ]
    },
    {
      "cell_type": "code",
      "metadata": {
        "id": "IUwoI0FKqFyQ"
      },
      "source": [
        "ROOT =  '/content/insults/'"
      ],
      "execution_count": 103,
      "outputs": []
    },
    {
      "cell_type": "code",
      "metadata": {
        "id": "fT7tx-rajCB1"
      },
      "source": [
        "SEED = 42"
      ],
      "execution_count": 104,
      "outputs": []
    },
    {
      "cell_type": "markdown",
      "metadata": {
        "id": "NWGW3E0zcnQ-"
      },
      "source": [
        "#### Training Data"
      ]
    },
    {
      "cell_type": "code",
      "metadata": {
        "colab": {
          "base_uri": "https://localhost:8080/",
          "height": 0
        },
        "id": "qQTcaUutpWg6",
        "outputId": "9a7dcd7d-520b-4048-984f-284dfd22dd6d"
      },
      "source": [
        "import pandas as pd\n",
        "\n",
        "train = pd.read_csv(ROOT + 'train.csv')\n",
        "insults_train = train\n",
        "insults_train.head()"
      ],
      "execution_count": 105,
      "outputs": [
        {
          "output_type": "execute_result",
          "data": {
            "text/html": [
              "<div>\n",
              "<style scoped>\n",
              "    .dataframe tbody tr th:only-of-type {\n",
              "        vertical-align: middle;\n",
              "    }\n",
              "\n",
              "    .dataframe tbody tr th {\n",
              "        vertical-align: top;\n",
              "    }\n",
              "\n",
              "    .dataframe thead th {\n",
              "        text-align: right;\n",
              "    }\n",
              "</style>\n",
              "<table border=\"1\" class=\"dataframe\">\n",
              "  <thead>\n",
              "    <tr style=\"text-align: right;\">\n",
              "      <th></th>\n",
              "      <th>Insult</th>\n",
              "      <th>Date</th>\n",
              "      <th>Comment</th>\n",
              "    </tr>\n",
              "  </thead>\n",
              "  <tbody>\n",
              "    <tr>\n",
              "      <th>0</th>\n",
              "      <td>1</td>\n",
              "      <td>20120618192155Z</td>\n",
              "      <td>\"You fuck your dad.\"</td>\n",
              "    </tr>\n",
              "    <tr>\n",
              "      <th>1</th>\n",
              "      <td>0</td>\n",
              "      <td>20120528192215Z</td>\n",
              "      <td>\"i really don't understand your point.\\xa0 It ...</td>\n",
              "    </tr>\n",
              "    <tr>\n",
              "      <th>2</th>\n",
              "      <td>0</td>\n",
              "      <td>NaN</td>\n",
              "      <td>\"A\\\\xc2\\\\xa0majority of Canadians can and has ...</td>\n",
              "    </tr>\n",
              "    <tr>\n",
              "      <th>3</th>\n",
              "      <td>0</td>\n",
              "      <td>NaN</td>\n",
              "      <td>\"listen if you dont wanna get married to a man...</td>\n",
              "    </tr>\n",
              "    <tr>\n",
              "      <th>4</th>\n",
              "      <td>0</td>\n",
              "      <td>20120619094753Z</td>\n",
              "      <td>\"C\\xe1c b\\u1ea1n xu\\u1ed1ng \\u0111\\u01b0\\u1edd...</td>\n",
              "    </tr>\n",
              "  </tbody>\n",
              "</table>\n",
              "</div>"
            ],
            "text/plain": [
              "   Insult             Date                                            Comment\n",
              "0       1  20120618192155Z                               \"You fuck your dad.\"\n",
              "1       0  20120528192215Z  \"i really don't understand your point.\\xa0 It ...\n",
              "2       0              NaN  \"A\\\\xc2\\\\xa0majority of Canadians can and has ...\n",
              "3       0              NaN  \"listen if you dont wanna get married to a man...\n",
              "4       0  20120619094753Z  \"C\\xe1c b\\u1ea1n xu\\u1ed1ng \\u0111\\u01b0\\u1edd..."
            ]
          },
          "metadata": {},
          "execution_count": 105
        }
      ]
    },
    {
      "cell_type": "code",
      "metadata": {
        "id": "mG9JBHQhLSNJ",
        "colab": {
          "base_uri": "https://localhost:8080/"
        },
        "outputId": "3e3dd837-fb94-41d5-ba05-b9b2494bc9b8"
      },
      "source": [
        "insults_train.shape"
      ],
      "execution_count": 106,
      "outputs": [
        {
          "output_type": "execute_result",
          "data": {
            "text/plain": [
              "(3947, 3)"
            ]
          },
          "metadata": {},
          "execution_count": 106
        }
      ]
    },
    {
      "cell_type": "code",
      "metadata": {
        "id": "xk9qDrnyKz4I",
        "colab": {
          "base_uri": "https://localhost:8080/"
        },
        "outputId": "8e39eb04-12e8-4045-b8ff-d52692599ba2"
      },
      "source": [
        "insults_train.info()"
      ],
      "execution_count": 107,
      "outputs": [
        {
          "output_type": "stream",
          "name": "stdout",
          "text": [
            "<class 'pandas.core.frame.DataFrame'>\n",
            "RangeIndex: 3947 entries, 0 to 3946\n",
            "Data columns (total 3 columns):\n",
            " #   Column   Non-Null Count  Dtype \n",
            "---  ------   --------------  ----- \n",
            " 0   Insult   3947 non-null   int64 \n",
            " 1   Date     3229 non-null   object\n",
            " 2   Comment  3947 non-null   object\n",
            "dtypes: int64(1), object(2)\n",
            "memory usage: 92.6+ KB\n"
          ]
        }
      ]
    },
    {
      "cell_type": "code",
      "metadata": {
        "id": "FyBoaCDtcfO8",
        "colab": {
          "base_uri": "https://localhost:8080/"
        },
        "outputId": "7cda390d-f8a7-49fa-9f4c-af7894520fef"
      },
      "source": [
        "insults_train.shape"
      ],
      "execution_count": 108,
      "outputs": [
        {
          "output_type": "execute_result",
          "data": {
            "text/plain": [
              "(3947, 3)"
            ]
          },
          "metadata": {},
          "execution_count": 108
        }
      ]
    },
    {
      "cell_type": "code",
      "metadata": {
        "id": "TLVv_63jc9x9"
      },
      "source": [
        "y_true_train = insults_train['Insult']"
      ],
      "execution_count": 109,
      "outputs": []
    },
    {
      "cell_type": "markdown",
      "metadata": {
        "id": "OAAwGzq1cump"
      },
      "source": [
        "#### Testing Data"
      ]
    },
    {
      "cell_type": "code",
      "metadata": {
        "id": "j5kFgxm3p28X",
        "colab": {
          "base_uri": "https://localhost:8080/",
          "height": 0
        },
        "outputId": "aee76756-e2e2-47b4-8d38-36280f0d1062"
      },
      "source": [
        "test = pd.read_csv(ROOT + 'test_with_solutions.csv')\n",
        "insults_test = test\n",
        "insults_test.head()"
      ],
      "execution_count": 110,
      "outputs": [
        {
          "output_type": "execute_result",
          "data": {
            "text/html": [
              "<div>\n",
              "<style scoped>\n",
              "    .dataframe tbody tr th:only-of-type {\n",
              "        vertical-align: middle;\n",
              "    }\n",
              "\n",
              "    .dataframe tbody tr th {\n",
              "        vertical-align: top;\n",
              "    }\n",
              "\n",
              "    .dataframe thead th {\n",
              "        text-align: right;\n",
              "    }\n",
              "</style>\n",
              "<table border=\"1\" class=\"dataframe\">\n",
              "  <thead>\n",
              "    <tr style=\"text-align: right;\">\n",
              "      <th></th>\n",
              "      <th>Insult</th>\n",
              "      <th>Date</th>\n",
              "      <th>Comment</th>\n",
              "      <th>Usage</th>\n",
              "    </tr>\n",
              "  </thead>\n",
              "  <tbody>\n",
              "    <tr>\n",
              "      <th>0</th>\n",
              "      <td>0</td>\n",
              "      <td>NaN</td>\n",
              "      <td>\"THE DRUDGE REPORT\\\\n\\\\n\\\\n\\\\nYou won't see th...</td>\n",
              "      <td>PublicTest</td>\n",
              "    </tr>\n",
              "    <tr>\n",
              "      <th>1</th>\n",
              "      <td>0</td>\n",
              "      <td>20120618222256Z</td>\n",
              "      <td>\"@ian21\\xa0\"Roger Clemens is the fucking man, ...</td>\n",
              "      <td>PublicTest</td>\n",
              "    </tr>\n",
              "    <tr>\n",
              "      <th>2</th>\n",
              "      <td>1</td>\n",
              "      <td>20120618213617Z</td>\n",
              "      <td>\"Agree with Alan you are an extremest idiot.  ...</td>\n",
              "      <td>PublicTest</td>\n",
              "    </tr>\n",
              "    <tr>\n",
              "      <th>3</th>\n",
              "      <td>0</td>\n",
              "      <td>NaN</td>\n",
              "      <td>\"Really?\\\\n\\\\nI see Marc Lamont Hill on variou...</td>\n",
              "      <td>PrivateTest</td>\n",
              "    </tr>\n",
              "    <tr>\n",
              "      <th>4</th>\n",
              "      <td>0</td>\n",
              "      <td>20120620003825Z</td>\n",
              "      <td>\"Really suck isn't the word, when many of our ...</td>\n",
              "      <td>PrivateTest</td>\n",
              "    </tr>\n",
              "  </tbody>\n",
              "</table>\n",
              "</div>"
            ],
            "text/plain": [
              "   Insult  ...        Usage\n",
              "0       0  ...   PublicTest\n",
              "1       0  ...   PublicTest\n",
              "2       1  ...   PublicTest\n",
              "3       0  ...  PrivateTest\n",
              "4       0  ...  PrivateTest\n",
              "\n",
              "[5 rows x 4 columns]"
            ]
          },
          "metadata": {},
          "execution_count": 110
        }
      ]
    },
    {
      "cell_type": "code",
      "metadata": {
        "id": "RR2yGIB2czXB",
        "colab": {
          "base_uri": "https://localhost:8080/"
        },
        "outputId": "fdd9d625-40ac-4b81-fafc-2804caff839d"
      },
      "source": [
        "insults_test.info()"
      ],
      "execution_count": 111,
      "outputs": [
        {
          "output_type": "stream",
          "name": "stdout",
          "text": [
            "<class 'pandas.core.frame.DataFrame'>\n",
            "RangeIndex: 2647 entries, 0 to 2646\n",
            "Data columns (total 4 columns):\n",
            " #   Column   Non-Null Count  Dtype \n",
            "---  ------   --------------  ----- \n",
            " 0   Insult   2647 non-null   int64 \n",
            " 1   Date     2123 non-null   object\n",
            " 2   Comment  2647 non-null   object\n",
            " 3   Usage    2647 non-null   object\n",
            "dtypes: int64(1), object(3)\n",
            "memory usage: 82.8+ KB\n"
          ]
        }
      ]
    },
    {
      "cell_type": "code",
      "metadata": {
        "id": "JRAmzUTTc1b7",
        "colab": {
          "base_uri": "https://localhost:8080/"
        },
        "outputId": "2d97eb53-c3ff-4bca-8744-05a5e1c73abc"
      },
      "source": [
        "insults_test.shape"
      ],
      "execution_count": 112,
      "outputs": [
        {
          "output_type": "execute_result",
          "data": {
            "text/plain": [
              "(2647, 4)"
            ]
          },
          "metadata": {},
          "execution_count": 112
        }
      ]
    },
    {
      "cell_type": "code",
      "metadata": {
        "id": "eq7QalXTIq0K"
      },
      "source": [
        "y_true_test = insults_test['Insult']"
      ],
      "execution_count": 113,
      "outputs": []
    },
    {
      "cell_type": "markdown",
      "metadata": {
        "id": "WYVoSxf2cTSO"
      },
      "source": [
        "# 2) Scikit-Learn Data Preprocessing"
      ]
    },
    {
      "cell_type": "markdown",
      "metadata": {
        "id": "jIiw48F2dFPk"
      },
      "source": [
        "We start off by transforming the text data into a vectorized representation. \n",
        "* Count Vectorizer\n",
        "* TF-IDF Transformer\n",
        "* Stemming"
      ]
    },
    {
      "cell_type": "code",
      "metadata": {
        "id": "rKXGAT9CdMbo"
      },
      "source": [
        "from sklearn.feature_extraction.text import TfidfTransformer\n",
        "from sklearn.feature_extraction.text import CountVectorizer\n",
        "from sklearn.pipeline import Pipeline\n",
        "from nltk.corpus import stopwords\n",
        "import sklearn\n",
        "import string\n",
        "import nltk\n",
        "import re"
      ],
      "execution_count": 114,
      "outputs": []
    },
    {
      "cell_type": "markdown",
      "metadata": {
        "id": "zoIkOHz5JASh"
      },
      "source": [
        "#### Pipeline"
      ]
    },
    {
      "cell_type": "code",
      "metadata": {
        "id": "_lcI9c3qRA7Y",
        "colab": {
          "base_uri": "https://localhost:8080/"
        },
        "outputId": "5fefc4d4-81b3-4fc0-929a-aad39eb148cb"
      },
      "source": [
        "# SRC: https://www.nltk.org/data.html\n",
        "nltk.download('stopwords')"
      ],
      "execution_count": 115,
      "outputs": [
        {
          "output_type": "stream",
          "name": "stdout",
          "text": [
            "[nltk_data] Downloading package stopwords to /root/nltk_data...\n",
            "[nltk_data]   Package stopwords is already up-to-date!\n"
          ]
        },
        {
          "output_type": "execute_result",
          "data": {
            "text/plain": [
              "True"
            ]
          },
          "metadata": {},
          "execution_count": 115
        }
      ]
    },
    {
      "cell_type": "code",
      "metadata": {
        "id": "E6CDQ9otfPQ9"
      },
      "source": [
        "stemmer = nltk.stem.snowball.SnowballStemmer(\n",
        "    'english', ignore_stopwords=True\n",
        ")"
      ],
      "execution_count": 116,
      "outputs": []
    },
    {
      "cell_type": "code",
      "metadata": {
        "id": "5gWBDhS-dOaB"
      },
      "source": [
        "# SRC: https://towardsdatascience.com/machine-learning-nlp-text-classification-using-scikit-learn-python-and-nltk-c52b92a7c73a\n",
        "\n",
        "class StemmedCountVectorizer(CountVectorizer):\n",
        "    \"\"\"\n",
        "    Super Class: CountVectorizer\n",
        "    \"\"\"\n",
        "\n",
        "    def build_analyzer(self):\n",
        "        \"\"\"\n",
        "\n",
        "        \"\"\"\n",
        "        analyzer = super(StemmedCountVectorizer, self).build_analyzer()\n",
        "        return lambda doc: ([stemmer.stem(w) for w in analyzer(doc)])"
      ],
      "execution_count": 117,
      "outputs": []
    },
    {
      "cell_type": "code",
      "metadata": {
        "id": "dWEtNKUTcVY1"
      },
      "source": [
        "# SRC: https://medium.com/@eiki1212/natural-language-processing-naive-bayes-classification-in-python-e934365cf40c\n",
        "\n",
        "pipeline = Pipeline([\n",
        "    ('stem_vect', StemmedCountVectorizer(stop_words='english')),\n",
        "    ('tfidf', TfidfTransformer())\n",
        "])"
      ],
      "execution_count": 118,
      "outputs": []
    },
    {
      "cell_type": "code",
      "metadata": {
        "id": "_uLzlXQZdRhz"
      },
      "source": [
        "X_train_prepared = pipeline.fit_transform(insults_train['Comment'])\n",
        "X_test_prepared = pipeline.transform(insults_test['Comment'])"
      ],
      "execution_count": 119,
      "outputs": []
    },
    {
      "cell_type": "code",
      "metadata": {
        "id": "LzRBKOOomOEu",
        "colab": {
          "base_uri": "https://localhost:8080/"
        },
        "outputId": "f086dc1d-3650-4a38-8174-b89a06a93908"
      },
      "source": [
        "X_train_prepared.shape"
      ],
      "execution_count": 120,
      "outputs": [
        {
          "output_type": "execute_result",
          "data": {
            "text/plain": [
              "(3947, 12493)"
            ]
          },
          "metadata": {},
          "execution_count": 120
        }
      ]
    },
    {
      "cell_type": "code",
      "metadata": {
        "id": "oGV8MBGyh50J",
        "colab": {
          "base_uri": "https://localhost:8080/"
        },
        "outputId": "19bd8177-4a2d-40f7-aec6-1eb66208840c"
      },
      "source": [
        "X_test_prepared.shape"
      ],
      "execution_count": 121,
      "outputs": [
        {
          "output_type": "execute_result",
          "data": {
            "text/plain": [
              "(2647, 12493)"
            ]
          },
          "metadata": {},
          "execution_count": 121
        }
      ]
    },
    {
      "cell_type": "markdown",
      "metadata": {
        "id": "Vr35Ds4X5kd_"
      },
      "source": [
        "# 3) Baseline Naive-Bayes Classifier"
      ]
    },
    {
      "cell_type": "markdown",
      "metadata": {
        "id": "ByoBdhuMjPjY"
      },
      "source": [
        "#### Initial Model Training"
      ]
    },
    {
      "cell_type": "markdown",
      "metadata": {
        "id": "BxRE7RRKrIcE"
      },
      "source": [
        "We are going to be using a Naive-Bayes classifier with minimal preprocessing as a baseline."
      ]
    },
    {
      "cell_type": "code",
      "metadata": {
        "id": "xaNfLXpZvDUV"
      },
      "source": [
        "from sklearn.naive_bayes import MultinomialNB\n",
        "\n",
        "mnb_clf = MultinomialNB()\n",
        "mnb_insults = mnb_clf.fit(\n",
        "    X_train_prepared, y_true_train\n",
        ")"
      ],
      "execution_count": 122,
      "outputs": []
    },
    {
      "cell_type": "code",
      "metadata": {
        "id": "yelF-8GazpqP"
      },
      "source": [
        "y_pred_test = mnb_insults.predict(X_test_prepared)"
      ],
      "execution_count": 123,
      "outputs": []
    },
    {
      "cell_type": "code",
      "metadata": {
        "id": "UvkqtYx-glYo",
        "colab": {
          "base_uri": "https://localhost:8080/"
        },
        "outputId": "fea04f2d-dcce-4636-8e52-cd2063513f4f"
      },
      "source": [
        "X_test_prepared"
      ],
      "execution_count": 124,
      "outputs": [
        {
          "output_type": "execute_result",
          "data": {
            "text/plain": [
              "<2647x12493 sparse matrix of type '<class 'numpy.float64'>'\n",
              "\twith 33791 stored elements in Compressed Sparse Row format>"
            ]
          },
          "metadata": {},
          "execution_count": 124
        }
      ]
    },
    {
      "cell_type": "code",
      "metadata": {
        "id": "hVZBwW8Z-BYy",
        "colab": {
          "base_uri": "https://localhost:8080/"
        },
        "outputId": "c4008584-248c-4211-dab8-986b246dde12"
      },
      "source": [
        "from sklearn.metrics import classification_report\n",
        "from sklearn.metrics import confusion_matrix\n",
        "\n",
        "print(classification_report(y_true_test, y_pred_test))"
      ],
      "execution_count": 125,
      "outputs": [
        {
          "output_type": "stream",
          "name": "stdout",
          "text": [
            "              precision    recall  f1-score   support\n",
            "\n",
            "           0       0.77      0.99      0.86      1954\n",
            "           1       0.88      0.14      0.24       693\n",
            "\n",
            "    accuracy                           0.77      2647\n",
            "   macro avg       0.82      0.57      0.55      2647\n",
            "weighted avg       0.80      0.77      0.70      2647\n",
            "\n"
          ]
        }
      ]
    },
    {
      "cell_type": "markdown",
      "metadata": {
        "id": "nbn7VKXQjTw3"
      },
      "source": [
        "#### Hyperparameter Tuning"
      ]
    },
    {
      "cell_type": "code",
      "metadata": {
        "id": "iL4m70oOjW7v"
      },
      "source": [
        "PARAMS = {\n",
        "    'alpha': [1, 1e-1, 1e-2, 1e-3, 1e-4]\n",
        "}"
      ],
      "execution_count": 126,
      "outputs": []
    },
    {
      "cell_type": "code",
      "metadata": {
        "id": "WYcOhZznm8xe",
        "colab": {
          "base_uri": "https://localhost:8080/"
        },
        "outputId": "e70ec98d-726e-4eb8-e37f-c5bbe216313f"
      },
      "source": [
        "from sklearn.model_selection import GridSearchCV\n",
        "\n",
        "mnb_gscv = GridSearchCV(\n",
        "    MultinomialNB(), \n",
        "    PARAMS, \n",
        "    cv=10,\n",
        "    scoring='accuracy',\n",
        "    return_train_score=True\n",
        ")\n",
        "\n",
        "mnb_gscv.fit(\n",
        "    X_train_prepared, y_true_train\n",
        ")"
      ],
      "execution_count": 127,
      "outputs": [
        {
          "output_type": "execute_result",
          "data": {
            "text/plain": [
              "GridSearchCV(cv=10, estimator=MultinomialNB(),\n",
              "             param_grid={'alpha': [1, 0.1, 0.01, 0.001, 0.0001]},\n",
              "             return_train_score=True, scoring='accuracy')"
            ]
          },
          "metadata": {},
          "execution_count": 127
        }
      ]
    },
    {
      "cell_type": "code",
      "metadata": {
        "id": "J2CbmMu9m9cl",
        "colab": {
          "base_uri": "https://localhost:8080/"
        },
        "outputId": "74b7c7be-53c5-415a-86e1-cbfe63dd0563"
      },
      "source": [
        "mnb_gscv.best_params_"
      ],
      "execution_count": 128,
      "outputs": [
        {
          "output_type": "execute_result",
          "data": {
            "text/plain": [
              "{'alpha': 0.1}"
            ]
          },
          "metadata": {},
          "execution_count": 128
        }
      ]
    },
    {
      "cell_type": "code",
      "metadata": {
        "id": "C8zG2bvMpEX5",
        "colab": {
          "base_uri": "https://localhost:8080/"
        },
        "outputId": "312a60c2-787a-4692-d314-eca3d007273f"
      },
      "source": [
        "mnb_gscv.best_score_"
      ],
      "execution_count": 129,
      "outputs": [
        {
          "output_type": "execute_result",
          "data": {
            "text/plain": [
              "0.7864280665681425"
            ]
          },
          "metadata": {},
          "execution_count": 129
        }
      ]
    },
    {
      "cell_type": "code",
      "metadata": {
        "id": "u5iH9Tpjqqia"
      },
      "source": [
        "y_pred_tune = mnb_gscv.best_estimator_.predict(X_test_prepared)"
      ],
      "execution_count": 130,
      "outputs": []
    },
    {
      "cell_type": "code",
      "metadata": {
        "id": "gK3ARypPsexm"
      },
      "source": [
        "from sklearn.metrics import roc_curve, roc_auc_score, auc\n",
        "import matplotlib.pyplot as plt\n",
        "import seaborn as sns\n",
        "import numpy as np"
      ],
      "execution_count": 131,
      "outputs": []
    },
    {
      "cell_type": "code",
      "source": [
        "def plot_confusion_matrix(y_true, y_pred):\n",
        "    \"\"\"\n",
        "    @param y_true\n",
        "    @param y_pred\n",
        "    \"\"\"\n",
        "    # STEP 1: sklearn confusion matrix\n",
        "    cm = confusion_matrix(y_true_test, y_pred)\n",
        "\n",
        "    # STEP 2: generate labels\n",
        "    group_names = ['True Neg','False Pos','False Neg','True Pos']\n",
        "    group_percentages = [\n",
        "        '{0:.2%}'.format(value) \n",
        "        for value in cm.flatten()/np.sum(cm)\n",
        "    ]\n",
        "    labels = [\n",
        "        f'{v1}\\n{v2}' \n",
        "        for v1, v2 in zip(group_names, group_percentages)\n",
        "    ]\n",
        "    labels = np.asarray(labels).reshape(2,2)\n",
        "\n",
        "    # STEP 3: plot using seaborn\n",
        "    plt.figure(figsize=(18, 10))\n",
        "    sns.heatmap(cm, annot=labels, fmt='', cmap='Blues')\n",
        "    plt.show()"
      ],
      "metadata": {
        "id": "3RRcGBTpZ0gm"
      },
      "execution_count": 132,
      "outputs": []
    },
    {
      "cell_type": "code",
      "metadata": {
        "id": "_XTo_3pxtTzt"
      },
      "source": [
        "def plot_roc_auc(fpr, tpr, auc):\n",
        "    \"\"\"\n",
        "    @param - fpr\n",
        "    @param - tpr\n",
        "    @param - auc\n",
        "    \"\"\"\n",
        "    plt.figure()\n",
        "    lw = 2\n",
        "    plt.plot(\n",
        "        fpr,\n",
        "        tpr,\n",
        "        color=\"darkorange\",\n",
        "        lw=lw,\n",
        "        label=\"ROC curve (area = %0.2f)\" % auc,\n",
        "    )\n",
        "    plt.plot([0, 1], [0, 1], color=\"navy\", lw=lw, linestyle=\"--\")\n",
        "    plt.xlim([0.0, 1.0])\n",
        "    plt.ylim([0.0, 1.05])\n",
        "    plt.xlabel(\"False Positive Rate\")\n",
        "    plt.ylabel(\"True Positive Rate\")\n",
        "    plt.title(\"Receiver Operating Characteristic\")\n",
        "    plt.legend(loc=\"lower right\")\n",
        "    plt.show()"
      ],
      "execution_count": 133,
      "outputs": []
    },
    {
      "cell_type": "code",
      "metadata": {
        "id": "xKM-wA4AqvcM",
        "colab": {
          "base_uri": "https://localhost:8080/"
        },
        "outputId": "63e449fa-07c3-4799-b539-44b85ea7403e"
      },
      "source": [
        "print(classification_report(y_true_test, y_pred_tune))"
      ],
      "execution_count": 134,
      "outputs": [
        {
          "output_type": "stream",
          "name": "stdout",
          "text": [
            "              precision    recall  f1-score   support\n",
            "\n",
            "           0       0.82      0.96      0.88      1954\n",
            "           1       0.78      0.40      0.53       693\n",
            "\n",
            "    accuracy                           0.81      2647\n",
            "   macro avg       0.80      0.68      0.71      2647\n",
            "weighted avg       0.81      0.81      0.79      2647\n",
            "\n"
          ]
        }
      ]
    },
    {
      "cell_type": "code",
      "source": [
        "plot_confusion_matrix(y_true_test, y_pred_tune)"
      ],
      "metadata": {
        "colab": {
          "base_uri": "https://localhost:8080/",
          "height": 504
        },
        "id": "o9Bm7OPXZ5sZ",
        "outputId": "25488a4b-8e21-491d-9fa9-e44f0ef09aca"
      },
      "execution_count": 135,
      "outputs": [
        {
          "output_type": "display_data",
          "data": {
            "image/png": "[encoded data removed]",
            "text/plain": [
              "<Figure size 1296x720 with 2 Axes>"
            ]
          },
          "metadata": {
            "needs_background": "light"
          }
        }
      ]
    },
    {
      "cell_type": "code",
      "metadata": {
        "id": "wfRXYopmsmNH"
      },
      "source": [
        "fpr, tpr, _ = roc_curve(y_true_test, y_pred_tune)\n",
        "roc_auc = auc(fpr, tpr)"
      ],
      "execution_count": 136,
      "outputs": []
    },
    {
      "cell_type": "code",
      "metadata": {
        "id": "gJajIHRwtmBp",
        "colab": {
          "base_uri": "https://localhost:8080/",
          "height": 294
        },
        "outputId": "faddd41f-1f7d-4810-a071-fe06a1775aec"
      },
      "source": [
        "plot_roc_auc(fpr, tpr, roc_auc)"
      ],
      "execution_count": 137,
      "outputs": [
        {
          "output_type": "display_data",
          "data": {
            "image/png": "[encoded data removed]",
            "text/plain": [
              "<Figure size 432x288 with 1 Axes>"
            ]
          },
          "metadata": {
            "needs_background": "light"
          }
        }
      ]
    },
    {
      "cell_type": "markdown",
      "metadata": {
        "id": "lHZUjel1jXNo"
      },
      "source": [
        "#### Performance Commentary"
      ]
    },
    {
      "cell_type": "markdown",
      "metadata": {
        "id": "Rr1GQwxzs5Y2"
      },
      "source": [
        "**Initial Performance**\n",
        "\n",
        "Terrible recall on the positive case! When the classifier predicts positive, it is usually right but it doesn't predict positive as much as it should. We will try a SVM clasifier next, and tune hyperparameters for both multinomial Naive Bayes and SVM for comparison.\n",
        "\n",
        "**Post-Tuning Performance**  \n",
        "\n",
        "After hyperparameter tuning, we saw a massive improvement in positive case recall, from .12 to .40. Overall accuracy went from 77% to 81%."
      ]
    },
    {
      "cell_type": "markdown",
      "metadata": {
        "id": "OpjZ70xM5upc"
      },
      "source": [
        "# 4) Support Vector Machine"
      ]
    },
    {
      "cell_type": "markdown",
      "metadata": {
        "id": "OXgRXxa7jZzX"
      },
      "source": [
        "#### Initial Model Training"
      ]
    },
    {
      "cell_type": "code",
      "metadata": {
        "id": "6dY-JFRD1F4r"
      },
      "source": [
        "from sklearn.linear_model import SGDClassifier\n",
        "\n",
        "sgd_clf = SGDClassifier()\n",
        "svm_insults = sgd_clf.fit(\n",
        "    X_train_prepared, y_true_train\n",
        ")"
      ],
      "execution_count": 138,
      "outputs": []
    },
    {
      "cell_type": "code",
      "metadata": {
        "id": "URXBI6gEqPpy"
      },
      "source": [
        "y_pred_test = svm_insults.predict(X_test_prepared)"
      ],
      "execution_count": 139,
      "outputs": []
    },
    {
      "cell_type": "code",
      "metadata": {
        "id": "G6hfAeJ-qR6m",
        "colab": {
          "base_uri": "https://localhost:8080/"
        },
        "outputId": "54e74992-0bae-42da-cb5d-c102b352a7ed"
      },
      "source": [
        "print(classification_report(y_true_test, y_pred_test))"
      ],
      "execution_count": 140,
      "outputs": [
        {
          "output_type": "stream",
          "name": "stdout",
          "text": [
            "              precision    recall  f1-score   support\n",
            "\n",
            "           0       0.85      0.91      0.88      1954\n",
            "           1       0.69      0.56      0.62       693\n",
            "\n",
            "    accuracy                           0.82      2647\n",
            "   macro avg       0.77      0.73      0.75      2647\n",
            "weighted avg       0.81      0.82      0.81      2647\n",
            "\n"
          ]
        }
      ]
    },
    {
      "cell_type": "markdown",
      "metadata": {
        "id": "y-hLEcc_jbcE"
      },
      "source": [
        "#### Hyperparameter Tuning"
      ]
    },
    {
      "cell_type": "markdown",
      "metadata": {
        "id": "H5Ld4d7g535-"
      },
      "source": [
        "Much better than the baseline Naive-Bayes classifier! Still not quite where we would want our model. Lets tune hyperparameters"
      ]
    },
    {
      "cell_type": "code",
      "metadata": {
        "id": "CIntAGbcqYuU"
      },
      "source": [
        "PARAMS = {\n",
        "    'loss': ['hinge', 'squared_hinge'],\n",
        "    'penalty': ['l2', 'l1', 'elasticnet'], \n",
        "    'alpha': [.00006, .0001, .0003, .0006, .001, .003, .006]\n",
        "}"
      ],
      "execution_count": 141,
      "outputs": []
    },
    {
      "cell_type": "code",
      "metadata": {
        "id": "1t7upBLZ5-Py",
        "colab": {
          "base_uri": "https://localhost:8080/"
        },
        "outputId": "64ce49cc-9b4f-48c3-d64d-b304a75b3a1a"
      },
      "source": [
        "svm_gscv = GridSearchCV(\n",
        "    SGDClassifier(random_state=SEED, max_iter=4000), \n",
        "    PARAMS, \n",
        "    cv=5,\n",
        "    scoring='neg_mean_squared_error',\n",
        "    return_train_score=True\n",
        ")\n",
        "\n",
        "svm_gscv.fit(\n",
        "    X_train_prepared, y_true_train\n",
        ")"
      ],
      "execution_count": 142,
      "outputs": [
        {
          "output_type": "stream",
          "name": "stderr",
          "text": [
            "/usr/local/lib/python3.7/dist-packages/sklearn/linear_model/_stochastic_gradient.py:700: ConvergenceWarning: Maximum number of iteration reached before convergence. Consider increasing max_iter to improve the fit.\n",
            "  ConvergenceWarning,\n",
            "/usr/local/lib/python3.7/dist-packages/sklearn/linear_model/_stochastic_gradient.py:700: ConvergenceWarning: Maximum number of iteration reached before convergence. Consider increasing max_iter to improve the fit.\n",
            "  ConvergenceWarning,\n",
            "/usr/local/lib/python3.7/dist-packages/sklearn/linear_model/_stochastic_gradient.py:700: ConvergenceWarning: Maximum number of iteration reached before convergence. Consider increasing max_iter to improve the fit.\n",
            "  ConvergenceWarning,\n",
            "/usr/local/lib/python3.7/dist-packages/sklearn/linear_model/_stochastic_gradient.py:700: ConvergenceWarning: Maximum number of iteration reached before convergence. Consider increasing max_iter to improve the fit.\n",
            "  ConvergenceWarning,\n",
            "/usr/local/lib/python3.7/dist-packages/sklearn/linear_model/_stochastic_gradient.py:700: ConvergenceWarning: Maximum number of iteration reached before convergence. Consider increasing max_iter to improve the fit.\n",
            "  ConvergenceWarning,\n",
            "/usr/local/lib/python3.7/dist-packages/sklearn/linear_model/_stochastic_gradient.py:700: ConvergenceWarning: Maximum number of iteration reached before convergence. Consider increasing max_iter to improve the fit.\n",
            "  ConvergenceWarning,\n",
            "/usr/local/lib/python3.7/dist-packages/sklearn/linear_model/_stochastic_gradient.py:700: ConvergenceWarning: Maximum number of iteration reached before convergence. Consider increasing max_iter to improve the fit.\n",
            "  ConvergenceWarning,\n",
            "/usr/local/lib/python3.7/dist-packages/sklearn/linear_model/_stochastic_gradient.py:700: ConvergenceWarning: Maximum number of iteration reached before convergence. Consider increasing max_iter to improve the fit.\n",
            "  ConvergenceWarning,\n",
            "/usr/local/lib/python3.7/dist-packages/sklearn/linear_model/_stochastic_gradient.py:700: ConvergenceWarning: Maximum number of iteration reached before convergence. Consider increasing max_iter to improve the fit.\n",
            "  ConvergenceWarning,\n",
            "/usr/local/lib/python3.7/dist-packages/sklearn/linear_model/_stochastic_gradient.py:700: ConvergenceWarning: Maximum number of iteration reached before convergence. Consider increasing max_iter to improve the fit.\n",
            "  ConvergenceWarning,\n",
            "/usr/local/lib/python3.7/dist-packages/sklearn/linear_model/_stochastic_gradient.py:700: ConvergenceWarning: Maximum number of iteration reached before convergence. Consider increasing max_iter to improve the fit.\n",
            "  ConvergenceWarning,\n",
            "/usr/local/lib/python3.7/dist-packages/sklearn/linear_model/_stochastic_gradient.py:700: ConvergenceWarning: Maximum number of iteration reached before convergence. Consider increasing max_iter to improve the fit.\n",
            "  ConvergenceWarning,\n",
            "/usr/local/lib/python3.7/dist-packages/sklearn/linear_model/_stochastic_gradient.py:700: ConvergenceWarning: Maximum number of iteration reached before convergence. Consider increasing max_iter to improve the fit.\n",
            "  ConvergenceWarning,\n",
            "/usr/local/lib/python3.7/dist-packages/sklearn/linear_model/_stochastic_gradient.py:700: ConvergenceWarning: Maximum number of iteration reached before convergence. Consider increasing max_iter to improve the fit.\n",
            "  ConvergenceWarning,\n",
            "/usr/local/lib/python3.7/dist-packages/sklearn/linear_model/_stochastic_gradient.py:700: ConvergenceWarning: Maximum number of iteration reached before convergence. Consider increasing max_iter to improve the fit.\n",
            "  ConvergenceWarning,\n",
            "/usr/local/lib/python3.7/dist-packages/sklearn/linear_model/_stochastic_gradient.py:700: ConvergenceWarning: Maximum number of iteration reached before convergence. Consider increasing max_iter to improve the fit.\n",
            "  ConvergenceWarning,\n",
            "/usr/local/lib/python3.7/dist-packages/sklearn/linear_model/_stochastic_gradient.py:700: ConvergenceWarning: Maximum number of iteration reached before convergence. Consider increasing max_iter to improve the fit.\n",
            "  ConvergenceWarning,\n",
            "/usr/local/lib/python3.7/dist-packages/sklearn/linear_model/_stochastic_gradient.py:700: ConvergenceWarning: Maximum number of iteration reached before convergence. Consider increasing max_iter to improve the fit.\n",
            "  ConvergenceWarning,\n",
            "/usr/local/lib/python3.7/dist-packages/sklearn/linear_model/_stochastic_gradient.py:700: ConvergenceWarning: Maximum number of iteration reached before convergence. Consider increasing max_iter to improve the fit.\n",
            "  ConvergenceWarning,\n",
            "/usr/local/lib/python3.7/dist-packages/sklearn/linear_model/_stochastic_gradient.py:700: ConvergenceWarning: Maximum number of iteration reached before convergence. Consider increasing max_iter to improve the fit.\n",
            "  ConvergenceWarning,\n",
            "/usr/local/lib/python3.7/dist-packages/sklearn/linear_model/_stochastic_gradient.py:700: ConvergenceWarning: Maximum number of iteration reached before convergence. Consider increasing max_iter to improve the fit.\n",
            "  ConvergenceWarning,\n",
            "/usr/local/lib/python3.7/dist-packages/sklearn/linear_model/_stochastic_gradient.py:700: ConvergenceWarning: Maximum number of iteration reached before convergence. Consider increasing max_iter to improve the fit.\n",
            "  ConvergenceWarning,\n",
            "/usr/local/lib/python3.7/dist-packages/sklearn/linear_model/_stochastic_gradient.py:700: ConvergenceWarning: Maximum number of iteration reached before convergence. Consider increasing max_iter to improve the fit.\n",
            "  ConvergenceWarning,\n",
            "/usr/local/lib/python3.7/dist-packages/sklearn/linear_model/_stochastic_gradient.py:700: ConvergenceWarning: Maximum number of iteration reached before convergence. Consider increasing max_iter to improve the fit.\n",
            "  ConvergenceWarning,\n",
            "/usr/local/lib/python3.7/dist-packages/sklearn/linear_model/_stochastic_gradient.py:700: ConvergenceWarning: Maximum number of iteration reached before convergence. Consider increasing max_iter to improve the fit.\n",
            "  ConvergenceWarning,\n",
            "/usr/local/lib/python3.7/dist-packages/sklearn/linear_model/_stochastic_gradient.py:700: ConvergenceWarning: Maximum number of iteration reached before convergence. Consider increasing max_iter to improve the fit.\n",
            "  ConvergenceWarning,\n",
            "/usr/local/lib/python3.7/dist-packages/sklearn/linear_model/_stochastic_gradient.py:700: ConvergenceWarning: Maximum number of iteration reached before convergence. Consider increasing max_iter to improve the fit.\n",
            "  ConvergenceWarning,\n",
            "/usr/local/lib/python3.7/dist-packages/sklearn/linear_model/_stochastic_gradient.py:700: ConvergenceWarning: Maximum number of iteration reached before convergence. Consider increasing max_iter to improve the fit.\n",
            "  ConvergenceWarning,\n",
            "/usr/local/lib/python3.7/dist-packages/sklearn/linear_model/_stochastic_gradient.py:700: ConvergenceWarning: Maximum number of iteration reached before convergence. Consider increasing max_iter to improve the fit.\n",
            "  ConvergenceWarning,\n",
            "/usr/local/lib/python3.7/dist-packages/sklearn/linear_model/_stochastic_gradient.py:700: ConvergenceWarning: Maximum number of iteration reached before convergence. Consider increasing max_iter to improve the fit.\n",
            "  ConvergenceWarning,\n"
          ]
        },
        {
          "output_type": "execute_result",
          "data": {
            "text/plain": [
              "GridSearchCV(cv=5, estimator=SGDClassifier(max_iter=4000, random_state=42),\n",
              "             param_grid={'alpha': [6e-05, 0.0001, 0.0003, 0.0006, 0.001, 0.003,\n",
              "                                   0.006],\n",
              "                         'loss': ['hinge', 'squared_hinge'],\n",
              "                         'penalty': ['l2', 'l1', 'elasticnet']},\n",
              "             return_train_score=True, scoring='neg_mean_squared_error')"
            ]
          },
          "metadata": {},
          "execution_count": 142
        }
      ]
    },
    {
      "cell_type": "code",
      "metadata": {
        "id": "HF79lG_HrYNv",
        "colab": {
          "base_uri": "https://localhost:8080/"
        },
        "outputId": "8acbb196-3cbf-4c88-a2af-0bb510b41f12"
      },
      "source": [
        "svm_gscv.best_params_"
      ],
      "execution_count": 143,
      "outputs": [
        {
          "output_type": "execute_result",
          "data": {
            "text/plain": [
              "{'alpha': 0.0006, 'loss': 'squared_hinge', 'penalty': 'elasticnet'}"
            ]
          },
          "metadata": {},
          "execution_count": 143
        }
      ]
    },
    {
      "cell_type": "code",
      "metadata": {
        "id": "UrJ2N04zrZ0v",
        "colab": {
          "base_uri": "https://localhost:8080/"
        },
        "outputId": "995aaebb-cb5c-4187-a434-f439021e1af8"
      },
      "source": [
        "svm_gscv.best_score_"
      ],
      "execution_count": 144,
      "outputs": [
        {
          "output_type": "execute_result",
          "data": {
            "text/plain": [
              "-0.17202868556576983"
            ]
          },
          "metadata": {},
          "execution_count": 144
        }
      ]
    },
    {
      "cell_type": "code",
      "metadata": {
        "id": "NT4U5qFePL4W"
      },
      "source": [
        "y_pred_tune = svm_gscv.best_estimator_.predict(X_test_prepared)"
      ],
      "execution_count": 145,
      "outputs": []
    },
    {
      "cell_type": "code",
      "metadata": {
        "id": "T-QcbWCvrKVh",
        "colab": {
          "base_uri": "https://localhost:8080/"
        },
        "outputId": "41b81c1e-1b59-4148-93bb-92fd2509c61a"
      },
      "source": [
        "print(classification_report(y_true_test, y_pred_tune))"
      ],
      "execution_count": 146,
      "outputs": [
        {
          "output_type": "stream",
          "name": "stdout",
          "text": [
            "              precision    recall  f1-score   support\n",
            "\n",
            "           0       0.84      0.95      0.89      1954\n",
            "           1       0.79      0.48      0.60       693\n",
            "\n",
            "    accuracy                           0.83      2647\n",
            "   macro avg       0.81      0.72      0.74      2647\n",
            "weighted avg       0.82      0.83      0.81      2647\n",
            "\n"
          ]
        }
      ]
    },
    {
      "cell_type": "code",
      "metadata": {
        "id": "HFPe7HdiymqR",
        "colab": {
          "base_uri": "https://localhost:8080/",
          "height": 504
        },
        "outputId": "4123abf9-e543-443c-efca-5b251c8898e2"
      },
      "source": [
        "plot_confusion_matrix(y_true_test, y_pred_tune)"
      ],
      "execution_count": 147,
      "outputs": [
        {
          "output_type": "display_data",
          "data": {
            "image/png": "[encoded data removed]",
            "text/plain": [
              "<Figure size 1296x720 with 2 Axes>"
            ]
          },
          "metadata": {
            "needs_background": "light"
          }
        }
      ]
    },
    {
      "cell_type": "code",
      "metadata": {
        "id": "Y5h9dR76tzMQ"
      },
      "source": [
        "fpr, tpr, _ = roc_curve(y_true_test, y_pred_tune)\n",
        "roc_auc = auc(fpr, tpr)"
      ],
      "execution_count": 148,
      "outputs": []
    },
    {
      "cell_type": "code",
      "metadata": {
        "id": "XubvZUOXtzMQ",
        "colab": {
          "base_uri": "https://localhost:8080/",
          "height": 294
        },
        "outputId": "97ce0ce1-00ae-4953-c577-604d191c0d2b"
      },
      "source": [
        "plot_roc_auc(fpr, tpr, roc_auc)"
      ],
      "execution_count": 149,
      "outputs": [
        {
          "output_type": "display_data",
          "data": {
            "image/png": "[encoded data removed]",
            "text/plain": [
              "<Figure size 432x288 with 1 Axes>"
            ]
          },
          "metadata": {
            "needs_background": "light"
          }
        }
      ]
    },
    {
      "cell_type": "markdown",
      "metadata": {
        "id": "mlGfuzb1jfJH"
      },
      "source": [
        "#### Performance Commentary"
      ]
    },
    {
      "cell_type": "markdown",
      "metadata": {
        "id": "IakVkNv1Px88"
      },
      "source": [
        "**Initial Performance**  \n",
        "Better than the untuned Naive-Bayes and similar performance to the tuned Naive-Bayes model. In general, SVM models seem to do much better at recognizing the positive case than Naive-Bayes models.\n",
        "\n",
        "\n",
        "**Post-Tuning Performance**   \n",
        "Tuned SVM has better F1 scores and overall accuracy, 83% compared to pretuned SVM's 81%, but worse recall on the positive case. This may be ok, it makes sense to want higher precision in offensive language detection. So far, the best model for our problem."
      ]
    },
    {
      "cell_type": "markdown",
      "metadata": {
        "id": "hpGXg0TH4p-u"
      },
      "source": [
        "# 5) Keras Data Preprocessing"
      ]
    },
    {
      "cell_type": "markdown",
      "metadata": {
        "id": "ZGHCwaI_4w9K"
      },
      "source": [
        "Our Data preprocessing for our Keras NLP model is a bit different than the process used for our SKLearn models. The main reason for this is due to the difference in vectorization between the two. In our Keras model, we use Keras's Tokenization class to vectorize inputs. We wanted to use Keras's libraries for data processing for our NLP model, and SKLearn's libraries for our SKLearn models. \n",
        "\n",
        "While we recognize that this creates an inconsistency in the way data gets cleaned prior to the model being trained, we believe that using cleaning methods tailored to each model leads to better results. "
      ]
    },
    {
      "cell_type": "code",
      "metadata": {
        "id": "2GPPTRqn66o6"
      },
      "source": [
        "import matplotlib.pyplot as plt\n",
        "import matplotlib as mpl\n",
        "\n",
        "%tensorflow_version 2.x\n",
        "from tensorflow import keras\n",
        "import tensorflow as tf\n",
        "\n",
        "np.random.seed(SEED)\n",
        "tf.random.set_seed(SEED)"
      ],
      "execution_count": 150,
      "outputs": []
    },
    {
      "cell_type": "markdown",
      "metadata": {
        "id": "U6KtW3dX56lk"
      },
      "source": [
        "#### Validation Dataset"
      ]
    },
    {
      "cell_type": "code",
      "metadata": {
        "id": "HGELLTeT6OJL"
      },
      "source": [
        "TRAIN_SIZE = int(train.shape[0] * 0.8)"
      ],
      "execution_count": 151,
      "outputs": []
    },
    {
      "cell_type": "code",
      "metadata": {
        "id": "UVEC2cSg56lk"
      },
      "source": [
        "insults_train = train[:TRAIN_SIZE]\n",
        "insults_val = train[TRAIN_SIZE:]\n",
        "insults_test = test"
      ],
      "execution_count": 152,
      "outputs": []
    },
    {
      "cell_type": "code",
      "metadata": {
        "id": "7LkbymwA56ll"
      },
      "source": [
        "y_true_train = insults_train['Insult']\n",
        "y_true_val = insults_val['Insult']\n",
        "y_true_test = insults_test['Insult']"
      ],
      "execution_count": 153,
      "outputs": []
    },
    {
      "cell_type": "markdown",
      "metadata": {
        "id": "IbjHYYpW4qtB"
      },
      "source": [
        "#### Text Cleaning"
      ]
    },
    {
      "cell_type": "code",
      "metadata": {
        "id": "GVAcL47m5k5o",
        "colab": {
          "base_uri": "https://localhost:8080/"
        },
        "outputId": "a458b483-47c7-41bb-f7ce-030ea38e3470"
      },
      "source": [
        "nltk.download('stopwords')"
      ],
      "execution_count": 154,
      "outputs": [
        {
          "output_type": "stream",
          "name": "stdout",
          "text": [
            "[nltk_data] Downloading package stopwords to /root/nltk_data...\n",
            "[nltk_data]   Package stopwords is already up-to-date!\n"
          ]
        },
        {
          "output_type": "execute_result",
          "data": {
            "text/plain": [
              "True"
            ]
          },
          "metadata": {},
          "execution_count": 154
        }
      ]
    },
    {
      "cell_type": "code",
      "metadata": {
        "id": "QASxgS9I4qtB"
      },
      "source": [
        "def remove_punct(text):\n",
        "    \"\"\"\n",
        "    @param text - each individual comment (string)\n",
        "\n",
        "    Removes punctuation from the text\n",
        "\n",
        "    @return\n",
        "    \"\"\"\n",
        "    translator = str.maketrans(\"\", \"\", string.punctuation)\n",
        "    return text.translate(translator)\n",
        "\n",
        "def remove_stopwords(text):\n",
        "    \"\"\"\n",
        "    @param text - each individual comment (string)\n",
        "\n",
        "    Remove stopwords (ex. the, it) — the most common words in the english \n",
        "    language which generally won't add value to our analysis\n",
        "\n",
        "    @return\n",
        "    \"\"\"\n",
        "    stop = set(stopwords.words(\"english\"))\n",
        "    filtered_words = [word.lower() for word in text.split() if word.lower() not in stop]\n",
        "    return \" \".join(filtered_words)\n",
        "\n",
        "def remove_nbsp(text):\n",
        "    \"\"\"\n",
        "    @param text - each individual comment (string)\n",
        "\n",
        "    Remove Non-Breaking Spaces\n",
        "\n",
        "    @return\n",
        "    \"\"\"\n",
        "    text = text.replace(u'\\xa0', u' ')\n",
        "    return text\n",
        "\n",
        "def remove_url(text):\n",
        "    \"\"\"\n",
        "    @param text - each individual comment (string)\n",
        "\n",
        "    Remove any URLs in the text using Regular Expressions\n",
        "\n",
        "    @return\n",
        "    \"\"\"\n",
        "    url = re.compile(r\"(https|http)?://\\S+|www\\.\\S+\")\n",
        "    return url.sub(r\"\", text)"
      ],
      "execution_count": 155,
      "outputs": []
    },
    {
      "cell_type": "code",
      "metadata": {
        "id": "VhfUGxJv4qtC"
      },
      "source": [
        "def clean_text(text):\n",
        "    \"\"\"\n",
        "    @param text - each individual comment (string)\n",
        "\n",
        "    Call each individual helper function to clean each comment\n",
        "\n",
        "    @return cleaned comments\n",
        "    \"\"\"\n",
        "    text = remove_punct(text)\n",
        "    text = remove_stopwords(text)\n",
        "    text = remove_nbsp(text)\n",
        "    text = remove_url(text)\n",
        "    return text "
      ],
      "execution_count": 156,
      "outputs": []
    },
    {
      "cell_type": "code",
      "metadata": {
        "id": "gSzLNhTJ4qtC",
        "colab": {
          "base_uri": "https://localhost:8080/"
        },
        "outputId": "d53b13f2-aeb2-4d65-ad1b-2f7f8572257a"
      },
      "source": [
        "insults_train['Comment'] = insults_train.Comment.map(clean_text)\n",
        "insults_test[\"Comment\"] = insults_test.Comment.map(clean_text)"
      ],
      "execution_count": 157,
      "outputs": [
        {
          "output_type": "stream",
          "name": "stderr",
          "text": [
            "/usr/local/lib/python3.7/dist-packages/ipykernel_launcher.py:1: SettingWithCopyWarning: \n",
            "A value is trying to be set on a copy of a slice from a DataFrame.\n",
            "Try using .loc[row_indexer,col_indexer] = value instead\n",
            "\n",
            "See the caveats in the documentation: https://pandas.pydata.org/pandas-docs/stable/user_guide/indexing.html#returning-a-view-versus-a-copy\n",
            "  \"\"\"Entry point for launching an IPython kernel.\n"
          ]
        }
      ]
    },
    {
      "cell_type": "code",
      "metadata": {
        "id": "Off4v-0BvA7u"
      },
      "source": [
        "TRAIN_SIZE = int(train.shape[0] * 0.8)"
      ],
      "execution_count": 158,
      "outputs": []
    },
    {
      "cell_type": "code",
      "metadata": {
        "id": "_9EIjt0WvDRy"
      },
      "source": [
        "insults_train = train[:TRAIN_SIZE]\n",
        "insults_val = train[TRAIN_SIZE:]\n",
        "insults_test = test"
      ],
      "execution_count": 159,
      "outputs": []
    },
    {
      "cell_type": "code",
      "metadata": {
        "id": "ZQ9znBKqvDkp"
      },
      "source": [
        "y_true_train = insults_train['Insult']\n",
        "y_true_val = insults_val['Insult']\n",
        "y_true_test = insults_test['Insult']"
      ],
      "execution_count": 160,
      "outputs": []
    },
    {
      "cell_type": "markdown",
      "metadata": {
        "id": "oYRJfO0_4qtC"
      },
      "source": [
        "#### Shuffle"
      ]
    },
    {
      "cell_type": "code",
      "metadata": {
        "id": "Y9djX1MV4qtC"
      },
      "source": [
        "from sklearn.utils import shuffle\n",
        "\n",
        "#insults_train = shuffle(insults_train)\n",
        "#insults_val = shuffle(insults_val)\n",
        "#insults_test = shuffle(insults_test)"
      ],
      "execution_count": 161,
      "outputs": []
    },
    {
      "cell_type": "code",
      "metadata": {
        "id": "wrvr6g724qtC"
      },
      "source": [
        "#insults_train.reset_index(inplace=True, drop=True) \n",
        "#insults_val.reset_index(inplace=True, drop=True) \n",
        "#insults_test.reset_index(inplace=True, drop=True) "
      ],
      "execution_count": 162,
      "outputs": []
    },
    {
      "cell_type": "markdown",
      "metadata": {
        "id": "q9JAZoyU6oCY"
      },
      "source": [
        "#### Tokenization"
      ]
    },
    {
      "cell_type": "code",
      "metadata": {
        "id": "y5zHmHQ76oXd"
      },
      "source": [
        "from collections import Counter\n",
        "\n",
        "def counter_word(text_col):\n",
        "    \"\"\"\n",
        "    @param text_col -\n",
        "\n",
        "    Count unique words\n",
        "\n",
        "    @return\n",
        "    \"\"\"\n",
        "    count = Counter()\n",
        "    for text in text_col.values:\n",
        "        for word in text.split():\n",
        "            count[word] += 1\n",
        "    return count"
      ],
      "execution_count": 163,
      "outputs": []
    },
    {
      "cell_type": "code",
      "metadata": {
        "id": "YytHWZzG7F3M",
        "colab": {
          "base_uri": "https://localhost:8080/"
        },
        "outputId": "c0a83134-58d7-4c58-b334-160a147a94fd"
      },
      "source": [
        "counter = counter_word(insults_train['Comment'])\n",
        "num_unique_words = len(counter)\n",
        "num_unique_words"
      ],
      "execution_count": 164,
      "outputs": [
        {
          "output_type": "execute_result",
          "data": {
            "text/plain": [
              "15937"
            ]
          },
          "metadata": {},
          "execution_count": 164
        }
      ]
    },
    {
      "cell_type": "code",
      "metadata": {
        "id": "6hqUke_07FyX"
      },
      "source": [
        "from tensorflow.keras.preprocessing.text import Tokenizer\n",
        "\n",
        "tokenizer = Tokenizer(num_words=num_unique_words)\n",
        "# Only fit on training set \n",
        "tokenizer.fit_on_texts(insults_train['Comment']) "
      ],
      "execution_count": 165,
      "outputs": []
    },
    {
      "cell_type": "code",
      "metadata": {
        "id": "eeMyTifI7aXD"
      },
      "source": [
        "train_sequences = tokenizer.texts_to_sequences(insults_train['Comment'])\n",
        "val_sequences = tokenizer.texts_to_sequences(insults_val['Comment'])\n",
        "test_sequences = tokenizer.texts_to_sequences(insults_test['Comment'])"
      ],
      "execution_count": 166,
      "outputs": []
    },
    {
      "cell_type": "markdown",
      "metadata": {
        "id": "F74FTbwI6o3B"
      },
      "source": [
        "#### Padding"
      ]
    },
    {
      "cell_type": "markdown",
      "metadata": {
        "id": "aImkogSg7i60"
      },
      "source": [
        "Pad the sequences to have the same length"
      ]
    },
    {
      "cell_type": "code",
      "metadata": {
        "id": "LtYEoOVX6pIS"
      },
      "source": [
        "from tensorflow.keras.preprocessing.sequence import pad_sequences\n",
        "\n",
        "# Max number of words in a sequence\n",
        "MAX_LENGTH = 70 # 280 character limit in a tweet so this should be a good limit"
      ],
      "execution_count": 167,
      "outputs": []
    },
    {
      "cell_type": "code",
      "metadata": {
        "id": "8ROjmF-i7mzT",
        "colab": {
          "base_uri": "https://localhost:8080/"
        },
        "outputId": "14cc45b0-5202-43c7-eb72-81f3d28b35e8"
      },
      "source": [
        "train_padded = np.array(pad_sequences(\n",
        "    train_sequences, maxlen=MAX_LENGTH, padding=\"post\", truncating=\"post\"\n",
        "))\n",
        "val_padded = np.array(pad_sequences(\n",
        "    val_sequences, maxlen=MAX_LENGTH, padding=\"post\", truncating=\"post\"\n",
        "))\n",
        "test_padded = np.array(pad_sequences(\n",
        "    test_sequences, maxlen=MAX_LENGTH, padding=\"post\", truncating=\"post\"\n",
        "))\n",
        "train_padded.shape, val_padded.shape, test_padded.shape"
      ],
      "execution_count": 168,
      "outputs": [
        {
          "output_type": "execute_result",
          "data": {
            "text/plain": [
              "((3157, 70), (790, 70), (2647, 70))"
            ]
          },
          "metadata": {},
          "execution_count": 168
        }
      ]
    },
    {
      "cell_type": "markdown",
      "metadata": {
        "id": "zDoQ36AYjldM"
      },
      "source": [
        "# 6) Keras Neural Networks"
      ]
    },
    {
      "cell_type": "markdown",
      "metadata": {
        "id": "hf8okYRn8Aw-"
      },
      "source": [
        "## Neural Network I"
      ]
    },
    {
      "cell_type": "markdown",
      "metadata": {
        "id": "9kDZRqaHjoSR"
      },
      "source": [
        "#### Initial Model Training"
      ]
    },
    {
      "cell_type": "code",
      "metadata": {
        "id": "va5W_81NcmlJ"
      },
      "source": [
        "EMBED_DIM = 32"
      ],
      "execution_count": 169,
      "outputs": []
    },
    {
      "cell_type": "code",
      "metadata": {
        "id": "wOdGNquBcjEU"
      },
      "source": [
        "model = tf.keras.Sequential([\n",
        "    tf.keras.layers.Embedding(\n",
        "        num_unique_words, EMBED_DIM, input_length=MAX_LENGTH\n",
        "    ),\n",
        "    tf.keras.layers.Conv1D(32,5,activation='relu',padding=\"same\"),\n",
        "    tf.keras.layers.BatchNormalization(),\n",
        "    tf.keras.layers.Dropout(.2),\n",
        "    tf.keras.layers.MaxPool1D(),\n",
        "    tf.keras.layers.Conv1D(32,3,activation='relu',padding=\"same\"),\n",
        "    tf.keras.layers.Dropout(.2),\n",
        "    tf.keras.layers.MaxPool1D(),\n",
        "    tf.keras.layers.Conv1D(32,3,activation='relu',padding=\"same\"),\n",
        "    tf.keras.layers.Dropout(.2),\n",
        "    tf.keras.layers.MaxPool1D(),\n",
        "    tf.keras.layers.Flatten(),\n",
        "    tf.keras.layers.Dense(250, activation='relu'),\n",
        "    tf.keras.layers.Dropout(.5),\n",
        "    tf.keras.layers.Dense(32, activation='relu'),\n",
        "    tf.keras.layers.Dropout(.25),\n",
        "    tf.keras.layers.Dense(1, activation='sigmoid'),\n",
        "])"
      ],
      "execution_count": 170,
      "outputs": []
    },
    {
      "cell_type": "code",
      "metadata": {
        "id": "1Noy3UQMc_ZL",
        "colab": {
          "base_uri": "https://localhost:8080/"
        },
        "outputId": "eeceafef-d659-4f9f-d417-077022f2f056"
      },
      "source": [
        "model.summary()"
      ],
      "execution_count": 171,
      "outputs": [
        {
          "output_type": "stream",
          "name": "stdout",
          "text": [
            "Model: \"sequential_3\"\n",
            "_________________________________________________________________\n",
            " Layer (type)                Output Shape              Param #   \n",
            "=================================================================\n",
            " embedding_3 (Embedding)     (None, 70, 32)            509984    \n",
            "                                                                 \n",
            " conv1d_9 (Conv1D)           (None, 70, 32)            5152      \n",
            "                                                                 \n",
            " batch_normalization_3 (Batc  (None, 70, 32)           128       \n",
            " hNormalization)                                                 \n",
            "                                                                 \n",
            " dropout_15 (Dropout)        (None, 70, 32)            0         \n",
            "                                                                 \n",
            " max_pooling1d_9 (MaxPooling  (None, 35, 32)           0         \n",
            " 1D)                                                             \n",
            "                                                                 \n",
            " conv1d_10 (Conv1D)          (None, 35, 32)            3104      \n",
            "                                                                 \n",
            " dropout_16 (Dropout)        (None, 35, 32)            0         \n",
            "                                                                 \n",
            " max_pooling1d_10 (MaxPoolin  (None, 17, 32)           0         \n",
            " g1D)                                                            \n",
            "                                                                 \n",
            " conv1d_11 (Conv1D)          (None, 17, 32)            3104      \n",
            "                                                                 \n",
            " dropout_17 (Dropout)        (None, 17, 32)            0         \n",
            "                                                                 \n",
            " max_pooling1d_11 (MaxPoolin  (None, 8, 32)            0         \n",
            " g1D)                                                            \n",
            "                                                                 \n",
            " flatten_3 (Flatten)         (None, 256)               0         \n",
            "                                                                 \n",
            " dense_9 (Dense)             (None, 250)               64250     \n",
            "                                                                 \n",
            " dropout_18 (Dropout)        (None, 250)               0         \n",
            "                                                                 \n",
            " dense_10 (Dense)            (None, 32)                8032      \n",
            "                                                                 \n",
            " dropout_19 (Dropout)        (None, 32)                0         \n",
            "                                                                 \n",
            " dense_11 (Dense)            (None, 1)                 33        \n",
            "                                                                 \n",
            "=================================================================\n",
            "Total params: 593,787\n",
            "Trainable params: 593,723\n",
            "Non-trainable params: 64\n",
            "_________________________________________________________________\n"
          ]
        }
      ]
    },
    {
      "cell_type": "code",
      "metadata": {
        "id": "bAAk4Q07dBkP",
        "colab": {
          "base_uri": "https://localhost:8080/"
        },
        "outputId": "fb1be77a-2717-491a-e871-6098dd9cec52"
      },
      "source": [
        "\n",
        "model.compile(\n",
        "    loss='binary_crossentropy',\n",
        "    optimizer=\"nadam\",\n",
        "    metrics=['accuracy',tf.keras.metrics.Precision(),tf.keras.metrics.Recall()]\n",
        ")\n",
        "history = model.fit(\n",
        "    train_padded, \n",
        "    y_true_train, \n",
        "    epochs=20, \n",
        "    validation_data=(val_padded, y_true_val), \n",
        "    verbose=2\n",
        ")"
      ],
      "execution_count": 172,
      "outputs": [
        {
          "output_type": "stream",
          "name": "stdout",
          "text": [
            "Epoch 1/20\n",
            "99/99 - 5s - loss: 0.5980 - accuracy: 0.7289 - precision_3: 0.1786 - recall_3: 0.0060 - val_loss: 0.6587 - val_accuracy: 0.7329 - val_precision_3: 0.0000e+00 - val_recall_3: 0.0000e+00 - 5s/epoch - 51ms/step\n",
            "Epoch 2/20\n",
            "99/99 - 2s - loss: 0.5663 - accuracy: 0.7339 - precision_3: 0.0000e+00 - recall_3: 0.0000e+00 - val_loss: 0.6665 - val_accuracy: 0.7329 - val_precision_3: 0.0000e+00 - val_recall_3: 0.0000e+00 - 2s/epoch - 21ms/step\n",
            "Epoch 3/20\n",
            "99/99 - 2s - loss: 0.4384 - accuracy: 0.7795 - precision_3: 0.7276 - recall_3: 0.2709 - val_loss: 0.7019 - val_accuracy: 0.4165 - val_precision_3: 0.3071 - val_recall_3: 0.9431 - 2s/epoch - 20ms/step\n",
            "Epoch 4/20\n",
            "99/99 - 2s - loss: 0.2097 - accuracy: 0.9230 - precision_3: 0.8512 - recall_3: 0.8604 - val_loss: 0.6748 - val_accuracy: 0.5456 - val_precision_3: 0.3555 - val_recall_3: 0.8626 - 2s/epoch - 20ms/step\n",
            "Epoch 5/20\n",
            "99/99 - 2s - loss: 0.0806 - accuracy: 0.9743 - precision_3: 0.9427 - recall_3: 0.9618 - val_loss: 0.5251 - val_accuracy: 0.7608 - val_precision_3: 0.5797 - val_recall_3: 0.3791 - 2s/epoch - 20ms/step\n",
            "Epoch 6/20\n",
            "99/99 - 2s - loss: 0.0602 - accuracy: 0.9797 - precision_3: 0.9585 - recall_3: 0.9654 - val_loss: 0.7969 - val_accuracy: 0.7000 - val_precision_3: 0.4599 - val_recall_3: 0.7062 - 2s/epoch - 21ms/step\n",
            "Epoch 7/20\n",
            "99/99 - 2s - loss: 0.0316 - accuracy: 0.9886 - precision_3: 0.9729 - recall_3: 0.9845 - val_loss: 0.9397 - val_accuracy: 0.7468 - val_precision_3: 0.5234 - val_recall_3: 0.5829 - 2s/epoch - 21ms/step\n",
            "Epoch 8/20\n",
            "99/99 - 2s - loss: 0.0288 - accuracy: 0.9902 - precision_3: 0.9821 - recall_3: 0.9809 - val_loss: 1.0689 - val_accuracy: 0.7646 - val_precision_3: 0.5546 - val_recall_3: 0.6019 - 2s/epoch - 21ms/step\n",
            "Epoch 9/20\n",
            "99/99 - 2s - loss: 0.0177 - accuracy: 0.9956 - precision_3: 0.9916 - recall_3: 0.9916 - val_loss: 1.2954 - val_accuracy: 0.7392 - val_precision_3: 0.5091 - val_recall_3: 0.6635 - 2s/epoch - 20ms/step\n",
            "Epoch 10/20\n",
            "99/99 - 2s - loss: 0.0200 - accuracy: 0.9937 - precision_3: 0.9869 - recall_3: 0.9893 - val_loss: 1.2825 - val_accuracy: 0.7608 - val_precision_3: 0.5466 - val_recall_3: 0.6114 - 2s/epoch - 20ms/step\n",
            "Epoch 11/20\n",
            "99/99 - 2s - loss: 0.0150 - accuracy: 0.9952 - precision_3: 0.9893 - recall_3: 0.9928 - val_loss: 1.5873 - val_accuracy: 0.7392 - val_precision_3: 0.5099 - val_recall_3: 0.6114 - 2s/epoch - 20ms/step\n",
            "Epoch 12/20\n",
            "99/99 - 2s - loss: 0.0178 - accuracy: 0.9949 - precision_3: 0.9905 - recall_3: 0.9905 - val_loss: 1.4697 - val_accuracy: 0.7354 - val_precision_3: 0.5037 - val_recall_3: 0.6398 - 2s/epoch - 21ms/step\n",
            "Epoch 13/20\n",
            "99/99 - 2s - loss: 0.0153 - accuracy: 0.9930 - precision_3: 0.9846 - recall_3: 0.9893 - val_loss: 1.9402 - val_accuracy: 0.7380 - val_precision_3: 0.5081 - val_recall_3: 0.5972 - 2s/epoch - 21ms/step\n",
            "Epoch 14/20\n",
            "99/99 - 2s - loss: 0.0234 - accuracy: 0.9940 - precision_3: 0.9881 - recall_3: 0.9893 - val_loss: 1.3571 - val_accuracy: 0.7304 - val_precision_3: 0.4961 - val_recall_3: 0.6019 - 2s/epoch - 20ms/step\n",
            "Epoch 15/20\n",
            "99/99 - 2s - loss: 0.0187 - accuracy: 0.9952 - precision_3: 0.9905 - recall_3: 0.9916 - val_loss: 1.6783 - val_accuracy: 0.7354 - val_precision_3: 0.5040 - val_recall_3: 0.5924 - 2s/epoch - 20ms/step\n",
            "Epoch 16/20\n",
            "99/99 - 2s - loss: 0.0175 - accuracy: 0.9930 - precision_3: 0.9846 - recall_3: 0.9893 - val_loss: 1.6163 - val_accuracy: 0.7506 - val_precision_3: 0.5315 - val_recall_3: 0.5592 - 2s/epoch - 21ms/step\n",
            "Epoch 17/20\n",
            "99/99 - 2s - loss: 0.0212 - accuracy: 0.9914 - precision_3: 0.9845 - recall_3: 0.9833 - val_loss: 1.6004 - val_accuracy: 0.7304 - val_precision_3: 0.4964 - val_recall_3: 0.6493 - 2s/epoch - 21ms/step\n",
            "Epoch 18/20\n",
            "99/99 - 2s - loss: 0.0158 - accuracy: 0.9949 - precision_3: 0.9893 - recall_3: 0.9916 - val_loss: 1.9340 - val_accuracy: 0.7468 - val_precision_3: 0.5212 - val_recall_3: 0.6398 - 2s/epoch - 20ms/step\n",
            "Epoch 19/20\n",
            "99/99 - 2s - loss: 0.0087 - accuracy: 0.9971 - precision_3: 0.9929 - recall_3: 0.9964 - val_loss: 2.0168 - val_accuracy: 0.7747 - val_precision_3: 0.5838 - val_recall_3: 0.5450 - 2s/epoch - 21ms/step\n",
            "Epoch 20/20\n",
            "99/99 - 2s - loss: 0.0098 - accuracy: 0.9959 - precision_3: 0.9928 - recall_3: 0.9916 - val_loss: 2.0673 - val_accuracy: 0.7304 - val_precision_3: 0.4965 - val_recall_3: 0.6730 - 2s/epoch - 20ms/step\n"
          ]
        }
      ]
    },
    {
      "cell_type": "code",
      "metadata": {
        "id": "Tq-87Mk4fiEr"
      },
      "source": [
        "y_pred = model.predict(test_padded)"
      ],
      "execution_count": 173,
      "outputs": []
    },
    {
      "cell_type": "code",
      "metadata": {
        "id": "jY4qGFgMfoME"
      },
      "source": [
        "TRESHOLD = 0.5\n",
        "y_pred = [\n",
        "    1 if y_pred[i] >= TRESHOLD else 0\n",
        "    for i in range(y_pred.shape[0])\n",
        "]"
      ],
      "execution_count": 174,
      "outputs": []
    },
    {
      "cell_type": "code",
      "metadata": {
        "id": "KapvbB3qgCpX",
        "colab": {
          "base_uri": "https://localhost:8080/"
        },
        "outputId": "fb0407c5-c0cf-4b03-cc47-626bf58f0ed1"
      },
      "source": [
        "print(classification_report(y_true_test, y_pred))"
      ],
      "execution_count": 175,
      "outputs": [
        {
          "output_type": "stream",
          "name": "stdout",
          "text": [
            "              precision    recall  f1-score   support\n",
            "\n",
            "           0       0.85      0.81      0.83      1954\n",
            "           1       0.53      0.60      0.56       693\n",
            "\n",
            "    accuracy                           0.75      2647\n",
            "   macro avg       0.69      0.70      0.69      2647\n",
            "weighted avg       0.76      0.75      0.76      2647\n",
            "\n"
          ]
        }
      ]
    },
    {
      "cell_type": "code",
      "metadata": {
        "id": "Kox-hcg8-Xi4",
        "colab": {
          "base_uri": "https://localhost:8080/",
          "height": 504
        },
        "outputId": "f0d4336a-9f5d-4029-8eb4-f88052b9c8dd"
      },
      "source": [
        "plot_confusion_matrix(y_true_test, y_pred)"
      ],
      "execution_count": 176,
      "outputs": [
        {
          "output_type": "display_data",
          "data": {
            "image/png": "[encoded data removed]",
            "text/plain": [
              "<Figure size 1296x720 with 2 Axes>"
            ]
          },
          "metadata": {
            "needs_background": "light"
          }
        }
      ]
    },
    {
      "cell_type": "markdown",
      "metadata": {
        "id": "pSCXk4JsjqIF"
      },
      "source": [
        "#### Performance Commentary"
      ]
    },
    {
      "cell_type": "markdown",
      "metadata": {
        "id": "dFCdWSu7jqsN"
      },
      "source": [
        "**Initial Performance**  \n",
        "At first, Neural Network I was very simple, starting with an embedding layer, only one convolutional layer, and then ending with a typical flatten/dense/dropout output setup. This preliminary model had terrible performance! Overfitting occured within 5 epochs, with a training accuracy of 99.91%. The model scored an accuracy 73.29% on the validation dataset, which seemed ok. Upon closer inspection, it was apparent that the model was simply guessing \"negative\" for every example and the validation dataset happened to be 73.29% negative labels!\n",
        "\n",
        "**Post-Tuning Performance**  \n",
        "To improve performance, we added a batch normalization layer followed by 2 more convolutional layers. Each convolutional layer was separated with a dropout layer and a max pooling layer. After the convolutional layers, a 250 node dense layer and another dropout layer was added. This improved the validation accuracy of Neural Network I to 79%. More importantly, we achieved better performance on the positive case, going from a 0% TP rate to a 13.45% TP rate. This is still not great, so we decided to run a more complex NN, with specific layers designed for text classification."
      ]
    },
    {
      "cell_type": "markdown",
      "metadata": {
        "id": "tZ6AHv8I8Gr4"
      },
      "source": [
        "## Neural Network II"
      ]
    },
    {
      "cell_type": "markdown",
      "metadata": {
        "id": "TEQ2FYqM8Gr4"
      },
      "source": [
        "#### Initial Model Training"
      ]
    },
    {
      "cell_type": "code",
      "metadata": {
        "id": "GLj-NCEb-jYE"
      },
      "source": [
        "from tensorflow.keras import layers\n",
        "\n",
        "# SRC: Keras Docs\n",
        "class TransformerBlock(layers.Layer):\n",
        "    def __init__(self, embed_dim, num_heads, ff_dim, rate=0.25):\n",
        "        super(TransformerBlock, self).__init__()\n",
        "        self.att = layers.MultiHeadAttention(num_heads=num_heads, key_dim=embed_dim)\n",
        "        self.ffn = keras.Sequential(\n",
        "            [layers.Dense(ff_dim, activation=\"relu\"), layers.Dense(embed_dim),]\n",
        "        )\n",
        "        self.layernorm1 = layers.LayerNormalization(epsilon=1e-6)\n",
        "        self.layernorm2 = layers.LayerNormalization(epsilon=1e-6)\n",
        "        self.dropout1 = layers.Dropout(rate)\n",
        "        self.dropout2 = layers.Dropout(rate)\n",
        "\n",
        "    def call(self, inputs, training):\n",
        "        attn_output = self.att(inputs, inputs)\n",
        "        attn_output = self.dropout1(attn_output, training=training)\n",
        "        out1 = self.layernorm1(inputs + attn_output)\n",
        "        ffn_output = self.ffn(out1)\n",
        "        ffn_output = self.dropout2(ffn_output, training=training)\n",
        "        return self.layernorm2(out1 + ffn_output)"
      ],
      "execution_count": 177,
      "outputs": []
    },
    {
      "cell_type": "code",
      "metadata": {
        "id": "HQ4frTBi-oCq"
      },
      "source": [
        "class TokenAndPositionEmbedding(layers.Layer):\n",
        "    def __init__(self, maxlen, vocab_size, embed_dim):\n",
        "        super(TokenAndPositionEmbedding, self).__init__()\n",
        "        self.token_emb = layers.Embedding(input_dim=vocab_size, output_dim=embed_dim)\n",
        "        self.pos_emb = layers.Embedding(input_dim=maxlen, output_dim=embed_dim)\n",
        "\n",
        "    def call(self, x):\n",
        "        maxlen = tf.shape(x)[-1]\n",
        "        positions = tf.range(start=0, limit=maxlen, delta=1)\n",
        "        positions = self.pos_emb(positions)\n",
        "        x = self.token_emb(x)\n",
        "        return x + positions"
      ],
      "execution_count": 178,
      "outputs": []
    },
    {
      "cell_type": "code",
      "metadata": {
        "id": "cI-DhxPA-vmn"
      },
      "source": [
        "# Number of attention heads\n",
        "NUM_HEADS = 2\n",
        "# Embedding size for each token\n",
        "EMBED_DIM = 32\n",
        "# Hidden layer size in feed forward network inside transformer\n",
        "FF_DIM = 32"
      ],
      "execution_count": 179,
      "outputs": []
    },
    {
      "cell_type": "code",
      "metadata": {
        "id": "_BrartHH-sWx"
      },
      "source": [
        "inputs = layers.Input(shape=(MAX_LENGTH,))\n",
        "embedding_layer = TokenAndPositionEmbedding(\n",
        "    MAX_LENGTH, num_unique_words, EMBED_DIM\n",
        ")\n",
        "x = embedding_layer(inputs)"
      ],
      "execution_count": 180,
      "outputs": []
    },
    {
      "cell_type": "code",
      "metadata": {
        "id": "PB1CTW-a_DW7"
      },
      "source": [
        "transformer_block = TransformerBlock(\n",
        "    EMBED_DIM, NUM_HEADS, FF_DIM\n",
        ")\n",
        "x = transformer_block(x)\n",
        "x = layers.GlobalAveragePooling1D()(x)\n",
        "x = layers.Dropout(0.5)(x)\n",
        "x = layers.Dense(40, activation=\"relu\")(x)\n",
        "x = layers.Dropout(0.5)(x)\n",
        "outputs = layers.Dense(1, activation=\"sigmoid\")(x)"
      ],
      "execution_count": 181,
      "outputs": []
    },
    {
      "cell_type": "code",
      "metadata": {
        "id": "aIqrIISd-7x9"
      },
      "source": [
        "model_2 = keras.Model(\n",
        "    inputs=inputs, outputs=outputs\n",
        ")"
      ],
      "execution_count": 182,
      "outputs": []
    },
    {
      "cell_type": "code",
      "metadata": {
        "id": "qDh8kqNKAzd0",
        "colab": {
          "base_uri": "https://localhost:8080/"
        },
        "outputId": "b4a5500a-7012-4ce9-a1a0-92734566a5c5"
      },
      "source": [
        "model_2.summary()"
      ],
      "execution_count": 183,
      "outputs": [
        {
          "output_type": "stream",
          "name": "stdout",
          "text": [
            "Model: \"model\"\n",
            "_________________________________________________________________\n",
            " Layer (type)                Output Shape              Param #   \n",
            "=================================================================\n",
            " input_1 (InputLayer)        [(None, 70)]              0         \n",
            "                                                                 \n",
            " token_and_position_embeddin  (None, 70, 32)           512224    \n",
            " g (TokenAndPositionEmbeddin                                     \n",
            " g)                                                              \n",
            "                                                                 \n",
            " transformer_block (Transfor  (None, 70, 32)           10656     \n",
            " merBlock)                                                       \n",
            "                                                                 \n",
            " global_average_pooling1d (G  (None, 32)               0         \n",
            " lobalAveragePooling1D)                                          \n",
            "                                                                 \n",
            " dropout_22 (Dropout)        (None, 32)                0         \n",
            "                                                                 \n",
            " dense_14 (Dense)            (None, 40)                1320      \n",
            "                                                                 \n",
            " dropout_23 (Dropout)        (None, 40)                0         \n",
            "                                                                 \n",
            " dense_15 (Dense)            (None, 1)                 41        \n",
            "                                                                 \n",
            "=================================================================\n",
            "Total params: 524,241\n",
            "Trainable params: 524,241\n",
            "Non-trainable params: 0\n",
            "_________________________________________________________________\n"
          ]
        }
      ]
    },
    {
      "cell_type": "code",
      "metadata": {
        "id": "E7ZM7EVN_KRG",
        "colab": {
          "base_uri": "https://localhost:8080/"
        },
        "outputId": "1ba7f009-c8e3-4d78-f9a6-e7f2a4cc8cdc"
      },
      "source": [
        "# our model starts to overfit after only a few iterations so we have to stop the training early \n",
        "model_2.compile(\n",
        "    loss='binary_crossentropy',\n",
        "    optimizer='adam',\n",
        "    metrics=['accuracy']\n",
        ")\n",
        "new_history = model_2.fit(\n",
        "    train_padded,\n",
        "    y_true_train,\n",
        "    epochs=5,\n",
        "    validation_data=(val_padded, y_true_val)\n",
        ")"
      ],
      "execution_count": 184,
      "outputs": [
        {
          "output_type": "stream",
          "name": "stdout",
          "text": [
            "Epoch 1/5\n",
            "99/99 [==============================] - 6s 43ms/step - loss: 0.6440 - accuracy: 0.6864 - val_loss: 0.5864 - val_accuracy: 0.7329\n",
            "Epoch 2/5\n",
            "99/99 [==============================] - 4s 41ms/step - loss: 0.5963 - accuracy: 0.7257 - val_loss: 0.6413 - val_accuracy: 0.7329\n",
            "Epoch 3/5\n",
            "99/99 [==============================] - 4s 40ms/step - loss: 0.5849 - accuracy: 0.7276 - val_loss: 0.5835 - val_accuracy: 0.7329\n",
            "Epoch 4/5\n",
            "99/99 [==============================] - 4s 40ms/step - loss: 0.4880 - accuracy: 0.7656 - val_loss: 0.4294 - val_accuracy: 0.8127\n",
            "Epoch 5/5\n",
            "99/99 [==============================] - 4s 40ms/step - loss: 0.2459 - accuracy: 0.9151 - val_loss: 0.5089 - val_accuracy: 0.8253\n"
          ]
        }
      ]
    },
    {
      "cell_type": "code",
      "metadata": {
        "id": "7ieeY3IC_gqp"
      },
      "source": [
        "y_pred = model_2.predict(test_padded)"
      ],
      "execution_count": 185,
      "outputs": []
    },
    {
      "cell_type": "code",
      "metadata": {
        "id": "bO1luZJb_gqq"
      },
      "source": [
        "TRESHOLD = 0.5\n",
        "y_pred = [\n",
        "    1 if y_pred[i] >= TRESHOLD else 0\n",
        "    for i in range(y_pred.shape[0])\n",
        "]"
      ],
      "execution_count": 186,
      "outputs": []
    },
    {
      "cell_type": "code",
      "metadata": {
        "id": "NVblva4-_gqq",
        "colab": {
          "base_uri": "https://localhost:8080/"
        },
        "outputId": "dec5e8f0-75e3-4451-c4f1-328c9c529f5e"
      },
      "source": [
        "print(classification_report(y_true_test, y_pred))"
      ],
      "execution_count": 187,
      "outputs": [
        {
          "output_type": "stream",
          "name": "stdout",
          "text": [
            "              precision    recall  f1-score   support\n",
            "\n",
            "           0       0.83      0.94      0.88      1954\n",
            "           1       0.74      0.47      0.58       693\n",
            "\n",
            "    accuracy                           0.82      2647\n",
            "   macro avg       0.79      0.71      0.73      2647\n",
            "weighted avg       0.81      0.82      0.80      2647\n",
            "\n"
          ]
        }
      ]
    },
    {
      "cell_type": "code",
      "metadata": {
        "id": "0Kcpgb8y_gqq",
        "colab": {
          "base_uri": "https://localhost:8080/",
          "height": 504
        },
        "outputId": "72e055a0-218b-4b06-bb79-d4c6d072afe0"
      },
      "source": [
        "plot_confusion_matrix(y_true_test, y_pred)"
      ],
      "execution_count": 188,
      "outputs": [
        {
          "output_type": "display_data",
          "data": {
            "image/png": "[encoded data removed]",
            "text/plain": [
              "<Figure size 1296x720 with 2 Axes>"
            ]
          },
          "metadata": {
            "needs_background": "light"
          }
        }
      ]
    },
    {
      "cell_type": "markdown",
      "metadata": {
        "id": "_GHAQ1Um8Gr4"
      },
      "source": [
        "#### Hyperparameter Tuning"
      ]
    },
    {
      "cell_type": "code",
      "metadata": {
        "id": "7zbGHhlm8Gr4"
      },
      "source": [
        "!pip install -q -U keras-tuner\n",
        "\n",
        "import keras_tuner as kt"
      ],
      "execution_count": 189,
      "outputs": []
    },
    {
      "cell_type": "markdown",
      "source": [
        "###Hyperparameter Tuning NN1"
      ],
      "metadata": {
        "id": "wTS67N1f_tlL"
      }
    },
    {
      "cell_type": "code",
      "source": [
        "# Used for hyperparameter tuning, taken from Keras Docs\n",
        "def model1_builder(hp):\n",
        "    \"\"\"\n",
        "    @param hp - hyperparameter values\n",
        "    \"\"\"\n",
        "    model = tf.keras.Sequential()\n",
        "\n",
        "    model.add(tf.keras.layers.Embedding(\n",
        "        num_unique_words, EMBED_DIM, input_length=MAX_LENGTH\n",
        "    ))\n",
        "\n",
        "    # Tune the number of filters in the first Conv1D layer\n",
        "    model.add(tf.keras.layers.Conv1D(\n",
        "        filters=hp.Int('filters', min_value=32, max_value=128, step = 32),\n",
        "        kernel_size=5,\n",
        "        activation='relu',\n",
        "        padding=\"same\"))\n",
        "    model.add(tf.keras.layers.BatchNormalization())\n",
        "    model.add(tf.keras.layers.Dropout(.2))\n",
        "    model.add(tf.keras.layers.MaxPool1D())\n",
        "\n",
        "    model.add(tf.keras.layers.Conv1D(\n",
        "        filters=hp.Int('filters', min_value=32, max_value=128, step = 32),\n",
        "        kernel_size=3,\n",
        "        activation='relu',\n",
        "        padding=\"same\"))\n",
        "    model.add(tf.keras.layers.Dropout(.2))\n",
        "    model.add(tf.keras.layers.MaxPool1D())\n",
        "\n",
        "    model.add(tf.keras.layers.Conv1D(\n",
        "        filters=hp.Int('filters', min_value=32, max_value=128, step = 32),\n",
        "        kernel_size=3,\n",
        "        activation='relu',\n",
        "        padding=\"same\"))\n",
        "    model.add(tf.keras.layers.Dropout(.2))\n",
        "    model.add(tf.keras.layers.MaxPool1D())\n",
        "    model.add(tf.keras.layers.Flatten())\n",
        "\n",
        "    # Tune the number of units in the first Dense layer\n",
        "    # hp_units = hp.Int('units', min_value=32, max_value=512, step=32)\n",
        "    model.add(tf.keras.layers.Dense(\n",
        "        units=hp.Int('units', min_value=32, max_value=512, step=32), \n",
        "        activation='relu'))\n",
        "    model.add(tf.keras.layers.Dropout(.5))\n",
        "\n",
        "    model.add(tf.keras.layers.Dense(\n",
        "        units=hp.Int('units', min_value=32, max_value=512, step=32), \n",
        "        activation='relu'))    \n",
        "    model.add(tf.keras.layers.Dropout(.25))\n",
        "    model.add(tf.keras.layers.Dense(1, activation='sigmoid'))\n",
        "\n",
        "    # Tune the learning rate for the optimizer\n",
        "    hp_learning_rate = hp.Choice('learning_rate', values=[1e-2, 1e-3, 1e-4])\n",
        "    optimizer = tf.keras.optimizers.Nadam(hp_learning_rate)\n",
        "\n",
        "    # Compile the model \n",
        "    model.compile(\n",
        "    loss='binary_crossentropy',\n",
        "    optimizer=optimizer,\n",
        "    metrics=['accuracy',tf.keras.metrics.Precision(),tf.keras.metrics.Recall()]\n",
        "    )\n",
        "\n",
        "    return model"
      ],
      "metadata": {
        "id": "RCPtU37ELnjE"
      },
      "execution_count": 190,
      "outputs": []
    },
    {
      "cell_type": "code",
      "metadata": {
        "id": "kKJV0nl6r_Z3",
        "outputId": "18473baf-bcc3-463f-9173-5ec5a3efbb63",
        "colab": {
          "base_uri": "https://localhost:8080/"
        }
      },
      "source": [
        "# We need to make our models hypermodels\n",
        "# see https://www.tensorflow.org/tutorials/keras/keras_tuner\n",
        "tuner_recall = kt.Hyperband(model1_builder,\n",
        "                     objective=kt.Objective(\"recall\", direction=\"max\"),\n",
        "                     max_epochs=5,\n",
        "                     factor=3,\n",
        "                     project_name='neural_net_hp_tuning_recall_obj',\n",
        "                     )\n",
        "\n",
        "tuner_acc = kt.Hyperband(model1_builder,\n",
        "                     objective=\"val_accuracy\",\n",
        "                     max_epochs=5,\n",
        "                     factor=3,\n",
        "                     project_name='neural_net_hp_tuning_acc_obj',\n",
        "                     )"
      ],
      "execution_count": 191,
      "outputs": [
        {
          "output_type": "stream",
          "name": "stdout",
          "text": [
            "INFO:tensorflow:Reloading Oracle from existing project ./neural_net_hp_tuning_acc_obj/oracle.json\n",
            "INFO:tensorflow:Reloading Tuner from ./neural_net_hp_tuning_acc_obj/tuner0.json\n"
          ]
        }
      ]
    },
    {
      "cell_type": "code",
      "metadata": {
        "id": "x-X1hfHZsxHs"
      },
      "source": [
        "stop_early = tf.keras.callbacks.EarlyStopping(monitor='val_loss', patience=5)"
      ],
      "execution_count": 192,
      "outputs": []
    },
    {
      "cell_type": "code",
      "source": [
        "tuner_acc.search(train_padded, y_true_train, epochs=10, validation_data=(val_padded, y_true_val), callbacks=[stop_early])"
      ],
      "metadata": {
        "colab": {
          "base_uri": "https://localhost:8080/"
        },
        "id": "F6mMUxtuJ1Q6",
        "outputId": "c6da1e25-af1f-4984-c335-21ccea338e0a"
      },
      "execution_count": 193,
      "outputs": [
        {
          "output_type": "stream",
          "name": "stdout",
          "text": [
            "INFO:tensorflow:Oracle triggered exit\n"
          ]
        }
      ]
    },
    {
      "cell_type": "code",
      "source": [
        "best_hps=tuner_acc.get_best_hyperparameters(num_trials=1)[0]\n",
        "\n",
        "print(f\"\"\"\n",
        "The optimal number of filters in the Convolution layers is {best_hps.get('filters')}.\n",
        "The optimal number of units in the densely-connected layers is {best_hps.get('units')} \n",
        "The optimal learning rate for the optimizer is {best_hps.get('learning_rate')}.\n",
        "\"\"\")"
      ],
      "metadata": {
        "id": "J63ZgTxr9nPO",
        "colab": {
          "base_uri": "https://localhost:8080/"
        },
        "outputId": "440307e9-44b4-4d16-8202-a2b1cd8ff717"
      },
      "execution_count": 194,
      "outputs": [
        {
          "output_type": "stream",
          "name": "stdout",
          "text": [
            "\n",
            "The optimal number of filters in the Convolution layers is 32.\n",
            "The optimal number of units in the densely-connected layers is 160 \n",
            "The optimal learning rate for the optimizer is 0.001.\n",
            "\n"
          ]
        }
      ]
    },
    {
      "cell_type": "code",
      "source": [
        "model = tuner_acc.hypermodel.build(best_hps)\n",
        "history = model.fit(train_padded, y_true_train, epochs=10, validation_data=(val_padded, y_true_val))\n",
        "\n",
        "val_acc_per_epoch = history.history['val_accuracy']\n",
        "best_epoch = val_acc_per_epoch.index(max(val_acc_per_epoch)) + 1\n",
        "print('Best epoch: %d' % (best_epoch,))"
      ],
      "metadata": {
        "id": "OMBX_8EO-E6s",
        "colab": {
          "base_uri": "https://localhost:8080/"
        },
        "outputId": "080876dc-625a-4693-e7ed-091480e14f3a"
      },
      "execution_count": 195,
      "outputs": [
        {
          "output_type": "stream",
          "name": "stdout",
          "text": [
            "Epoch 1/10\n",
            "99/99 [==============================] - 5s 28ms/step - loss: 0.5966 - accuracy: 0.7273 - precision_6: 0.1034 - recall_6: 0.0036 - val_loss: 0.6583 - val_accuracy: 0.7329 - val_precision_6: 0.0000e+00 - val_recall_6: 0.0000e+00\n",
            "Epoch 2/10\n",
            "99/99 [==============================] - 2s 24ms/step - loss: 0.5501 - accuracy: 0.7349 - precision_6: 1.0000 - recall_6: 0.0012 - val_loss: 0.6908 - val_accuracy: 0.7329 - val_precision_6: 0.0000e+00 - val_recall_6: 0.0000e+00\n",
            "Epoch 3/10\n",
            "99/99 [==============================] - 2s 24ms/step - loss: 0.3811 - accuracy: 0.8204 - precision_6: 0.7571 - recall_6: 0.4761 - val_loss: 0.8487 - val_accuracy: 0.2709 - val_precision_6: 0.2681 - val_recall_6: 1.0000\n",
            "Epoch 4/10\n",
            "99/99 [==============================] - 2s 23ms/step - loss: 0.1716 - accuracy: 0.9344 - precision_6: 0.8647 - recall_6: 0.8926 - val_loss: 0.9269 - val_accuracy: 0.3177 - val_precision_6: 0.2790 - val_recall_6: 0.9810\n",
            "Epoch 5/10\n",
            "99/99 [==============================] - 2s 23ms/step - loss: 0.0756 - accuracy: 0.9753 - precision_6: 0.9429 - recall_6: 0.9654 - val_loss: 0.6704 - val_accuracy: 0.6000 - val_precision_6: 0.3776 - val_recall_6: 0.7678\n",
            "Epoch 6/10\n",
            "99/99 [==============================] - 2s 23ms/step - loss: 0.0539 - accuracy: 0.9785 - precision_6: 0.9498 - recall_6: 0.9702 - val_loss: 0.8667 - val_accuracy: 0.6532 - val_precision_6: 0.4203 - val_recall_6: 0.7867\n",
            "Epoch 7/10\n",
            "99/99 [==============================] - 2s 23ms/step - loss: 0.0318 - accuracy: 0.9911 - precision_6: 0.9742 - recall_6: 0.9928 - val_loss: 0.8959 - val_accuracy: 0.7405 - val_precision_6: 0.5112 - val_recall_6: 0.6493\n",
            "Epoch 8/10\n",
            "99/99 [==============================] - 2s 23ms/step - loss: 0.0315 - accuracy: 0.9886 - precision_6: 0.9751 - recall_6: 0.9821 - val_loss: 0.9567 - val_accuracy: 0.7810 - val_precision_6: 0.5922 - val_recall_6: 0.5782\n",
            "Epoch 9/10\n",
            "99/99 [==============================] - 2s 24ms/step - loss: 0.0160 - accuracy: 0.9949 - precision_6: 0.9881 - recall_6: 0.9928 - val_loss: 1.5724 - val_accuracy: 0.7911 - val_precision_6: 0.7738 - val_recall_6: 0.3081\n",
            "Epoch 10/10\n",
            "99/99 [==============================] - 2s 23ms/step - loss: 0.0241 - accuracy: 0.9924 - precision_6: 0.9857 - recall_6: 0.9857 - val_loss: 1.0731 - val_accuracy: 0.7734 - val_precision_6: 0.5755 - val_recall_6: 0.5782\n",
            "Best epoch: 9\n"
          ]
        }
      ]
    },
    {
      "cell_type": "code",
      "source": [
        "tuner_recall.search(train_padded, y_true_train, epochs=10, validation_data=(val_padded, y_true_val), callbacks=[stop_early])"
      ],
      "metadata": {
        "id": "11IRpI2_gHEi",
        "colab": {
          "base_uri": "https://localhost:8080/"
        },
        "outputId": "c6b4918f-bba8-48b9-caaf-603653b6f369"
      },
      "execution_count": 196,
      "outputs": [
        {
          "output_type": "stream",
          "name": "stdout",
          "text": [
            "Trial 10 Complete [00h 00m 15s]\n",
            "recall: 0.8389021754264832\n",
            "\n",
            "Best recall So Far: 0.9701670408248901\n",
            "Total elapsed time: 00h 02m 42s\n",
            "INFO:tensorflow:Oracle triggered exit\n"
          ]
        }
      ]
    },
    {
      "cell_type": "code",
      "source": [
        "best_hps_recall=tuner_recall.get_best_hyperparameters(num_trials=1)[0]\n",
        "\n",
        "print(f\"\"\"\n",
        "The optimal number of filters in the Convolution layers is {best_hps_recall.get('filters')}.\n",
        "The optimal number of units in the densely-connected layers is {best_hps_recall.get('units')} \n",
        "The optimal learning rate for the optimizer is {best_hps_recall.get('learning_rate')}.\n",
        "\"\"\")"
      ],
      "metadata": {
        "id": "W7Bt03iSeEn1",
        "colab": {
          "base_uri": "https://localhost:8080/"
        },
        "outputId": "b84c47ab-13f2-4f08-ae73-251e8dd7ca78"
      },
      "execution_count": 197,
      "outputs": [
        {
          "output_type": "stream",
          "name": "stdout",
          "text": [
            "\n",
            "The optimal number of filters in the Convolution layers is 96.\n",
            "The optimal number of units in the densely-connected layers is 32 \n",
            "The optimal learning rate for the optimizer is 0.001.\n",
            "\n"
          ]
        }
      ]
    },
    {
      "cell_type": "code",
      "source": [
        "recall_model = tuner_recall.hypermodel.build(best_hps_recall)\n",
        "recall_history = recall_model.fit(train_padded, y_true_train, epochs=10, validation_data=(val_padded, y_true_val))\n",
        "\n",
        "val_acc_per_epoch = recall_history.history['val_accuracy']\n",
        "best_epoch = val_acc_per_epoch.index(max(val_acc_per_epoch)) + 1\n",
        "print('Best epoch: %d' % (best_epoch,))"
      ],
      "metadata": {
        "id": "Sn5qYtuWrDTT",
        "colab": {
          "base_uri": "https://localhost:8080/"
        },
        "outputId": "f94b1b13-3007-4471-8861-ad17450be400"
      },
      "execution_count": 198,
      "outputs": [
        {
          "output_type": "stream",
          "name": "stdout",
          "text": [
            "Epoch 1/10\n",
            "99/99 [==============================] - 7s 44ms/step - loss: 0.6019 - accuracy: 0.7257 - precision_1: 0.2812 - recall_1: 0.0215 - val_loss: 0.6551 - val_accuracy: 0.7329 - val_precision_1: 0.0000e+00 - val_recall_1: 0.0000e+00\n",
            "Epoch 2/10\n",
            "99/99 [==============================] - 4s 39ms/step - loss: 0.5558 - accuracy: 0.7349 - precision_1: 0.6000 - recall_1: 0.0036 - val_loss: 0.6571 - val_accuracy: 0.7329 - val_precision_1: 0.0000e+00 - val_recall_1: 0.0000e+00\n",
            "Epoch 3/10\n",
            "99/99 [==============================] - 4s 39ms/step - loss: 0.3627 - accuracy: 0.8347 - precision_1: 0.7724 - recall_1: 0.5346 - val_loss: 0.6398 - val_accuracy: 0.6633 - val_precision_1: 0.4278 - val_recall_1: 0.7725\n",
            "Epoch 4/10\n",
            "99/99 [==============================] - 4s 38ms/step - loss: 0.1451 - accuracy: 0.9515 - precision_1: 0.9122 - recall_1: 0.9045 - val_loss: 0.5466 - val_accuracy: 0.7532 - val_precision_1: 0.5303 - val_recall_1: 0.6635\n",
            "Epoch 5/10\n",
            "99/99 [==============================] - 4s 39ms/step - loss: 0.0731 - accuracy: 0.9797 - precision_1: 0.9510 - recall_1: 0.9737 - val_loss: 0.4996 - val_accuracy: 0.7797 - val_precision_1: 0.6225 - val_recall_1: 0.4455\n",
            "Epoch 6/10\n",
            "99/99 [==============================] - 4s 39ms/step - loss: 0.0550 - accuracy: 0.9829 - precision_1: 0.9700 - recall_1: 0.9654 - val_loss: 0.6559 - val_accuracy: 0.7405 - val_precision_1: 0.5117 - val_recall_1: 0.6209\n",
            "Epoch 7/10\n",
            "99/99 [==============================] - 4s 39ms/step - loss: 0.0263 - accuracy: 0.9918 - precision_1: 0.9845 - recall_1: 0.9845 - val_loss: 0.8842 - val_accuracy: 0.7582 - val_precision_1: 0.5435 - val_recall_1: 0.5924\n",
            "Epoch 8/10\n",
            "99/99 [==============================] - 4s 40ms/step - loss: 0.0210 - accuracy: 0.9946 - precision_1: 0.9881 - recall_1: 0.9916 - val_loss: 1.1736 - val_accuracy: 0.7696 - val_precision_1: 0.5650 - val_recall_1: 0.5972\n",
            "Epoch 9/10\n",
            "99/99 [==============================] - 4s 40ms/step - loss: 0.0100 - accuracy: 0.9962 - precision_1: 0.9893 - recall_1: 0.9964 - val_loss: 1.7487 - val_accuracy: 0.7684 - val_precision_1: 0.5648 - val_recall_1: 0.5782\n",
            "Epoch 10/10\n",
            "99/99 [==============================] - 4s 39ms/step - loss: 0.0128 - accuracy: 0.9956 - precision_1: 0.9893 - recall_1: 0.9940 - val_loss: 1.8711 - val_accuracy: 0.7823 - val_precision_1: 0.6089 - val_recall_1: 0.5166\n",
            "Best epoch: 10\n"
          ]
        }
      ]
    },
    {
      "cell_type": "markdown",
      "source": [
        "###Hyperparameter Tuning NN2"
      ],
      "metadata": {
        "id": "n2gltxGa_z5P"
      }
    },
    {
      "cell_type": "code",
      "source": [
        "def model2_builder(hp):\n",
        "    \"\"\"\n",
        "    @param hp - hyperparameter values\n",
        "    \"\"\"\n",
        "    inputs = layers.Input(shape=(MAX_LENGTH,))\n",
        "    embedding_layer = TokenAndPositionEmbedding(\n",
        "      MAX_LENGTH, num_unique_words, EMBED_DIM\n",
        "    )\n",
        "    x = embedding_layer(inputs)\n",
        "    transformer_block = TransformerBlock(\n",
        "    EMBED_DIM, NUM_HEADS, FF_DIM\n",
        "    )\n",
        "    x = transformer_block(x)\n",
        "    x = layers.GlobalAveragePooling1D()(x)\n",
        "    x = layers.Dropout(0.5)(x)\n",
        "    hp_units=hp.Int('units', min_value=32, max_value=512, step=32)\n",
        "    x = layers.Dense(units=hp_units, activation=\"relu\")(x)\n",
        "    x = layers.Dropout(0.5)(x)\n",
        "    outputs = layers.Dense(1, activation=\"sigmoid\")(x)\n",
        "\n",
        "    # Tune the learning rate for the optimizer\n",
        "    hp_learning_rate = hp.Choice('learning_rate', values=[1e-2, 1e-3, 1e-4])\n",
        "    optimizer = tf.keras.optimizers.Nadam(hp_learning_rate)\n",
        "\n",
        "    model = keras.Model(inputs=inputs, outputs=outputs)\n",
        "\n",
        "    # Compile the model \n",
        "    model.compile(\n",
        "    loss='binary_crossentropy',\n",
        "    optimizer=optimizer,\n",
        "    metrics=['accuracy',tf.keras.metrics.Precision(),tf.keras.metrics.Recall()]\n",
        "    )\n",
        "\n",
        "    return model"
      ],
      "metadata": {
        "id": "LloIkHlrsmS2"
      },
      "execution_count": 199,
      "outputs": []
    },
    {
      "cell_type": "code",
      "source": [
        "tuner2_acc = kt.Hyperband(model2_builder,\n",
        "                     objective=\"val_accuracy\",\n",
        "                     max_epochs=5,\n",
        "                     factor=3,\n",
        "                     project_name='neural_net_2_hp_tuning_acc_obj',\n",
        "                     )"
      ],
      "metadata": {
        "id": "9ezQdNCVv1NV"
      },
      "execution_count": 200,
      "outputs": []
    },
    {
      "cell_type": "code",
      "source": [
        "tuner2_acc.search(train_padded, y_true_train, epochs=10, validation_data=(val_padded, y_true_val), callbacks=[stop_early])"
      ],
      "metadata": {
        "id": "wNfvHVUYwAyG",
        "colab": {
          "base_uri": "https://localhost:8080/"
        },
        "outputId": "1aae3898-cf5f-4a29-8902-69604e3012e1"
      },
      "execution_count": 201,
      "outputs": [
        {
          "output_type": "stream",
          "name": "stdout",
          "text": [
            "Trial 10 Complete [00h 00m 25s]\n",
            "val_accuracy: 0.7329114079475403\n",
            "\n",
            "Best val_accuracy So Far: 0.7898734211921692\n",
            "Total elapsed time: 00h 03m 27s\n",
            "INFO:tensorflow:Oracle triggered exit\n"
          ]
        }
      ]
    },
    {
      "cell_type": "code",
      "source": [
        "best_hps_model2=tuner2_acc.get_best_hyperparameters(num_trials=1)[0]\n",
        "\n",
        "print(f\"\"\"\n",
        "The optimal number of units in the densely-connected layers is {best_hps_model2.get('units')} \n",
        "The optimal learning rate for the optimizer is {best_hps_model2.get('learning_rate')}.\n",
        "\"\"\")"
      ],
      "metadata": {
        "id": "BqmGvlou19Ec",
        "colab": {
          "base_uri": "https://localhost:8080/"
        },
        "outputId": "e3352359-692e-444e-fc0b-d3114622b595"
      },
      "execution_count": 202,
      "outputs": [
        {
          "output_type": "stream",
          "name": "stdout",
          "text": [
            "\n",
            "The optimal number of units in the densely-connected layers is 320 \n",
            "The optimal learning rate for the optimizer is 0.01.\n",
            "\n"
          ]
        }
      ]
    },
    {
      "cell_type": "code",
      "source": [
        "model2 = tuner_acc.hypermodel.build(best_hps_recall)\n",
        "model2_history = model2.fit(train_padded, y_true_train, epochs=10, validation_data=(val_padded, y_true_val))\n",
        "\n",
        "val_acc_per_epoch = model2_history.history['val_accuracy']\n",
        "best_epoch = val_acc_per_epoch.index(max(val_acc_per_epoch)) + 1\n",
        "print('Best epoch: %d' % (best_epoch,))"
      ],
      "metadata": {
        "id": "emm11PK12Wu2",
        "colab": {
          "base_uri": "https://localhost:8080/"
        },
        "outputId": "6482d3e0-5bea-4be7-aecb-445b6dee40cc"
      },
      "execution_count": 203,
      "outputs": [
        {
          "output_type": "stream",
          "name": "stdout",
          "text": [
            "Epoch 1/10\n",
            "99/99 [==============================] - 7s 43ms/step - loss: 0.5984 - accuracy: 0.7339 - precision_1: 0.4000 - recall_1: 0.0048 - val_loss: 0.6577 - val_accuracy: 0.7329 - val_precision_1: 0.0000e+00 - val_recall_1: 0.0000e+00\n",
            "Epoch 2/10\n",
            "99/99 [==============================] - 4s 38ms/step - loss: 0.5451 - accuracy: 0.7346 - precision_1: 0.0000e+00 - recall_1: 0.0000e+00 - val_loss: 0.6626 - val_accuracy: 0.7329 - val_precision_1: 0.0000e+00 - val_recall_1: 0.0000e+00\n",
            "Epoch 3/10\n",
            "99/99 [==============================] - 4s 38ms/step - loss: 0.3611 - accuracy: 0.7947 - precision_1: 0.8442 - recall_1: 0.2780 - val_loss: 0.6640 - val_accuracy: 0.5810 - val_precision_1: 0.3790 - val_recall_1: 0.8910\n",
            "Epoch 4/10\n",
            "99/99 [==============================] - 4s 39ms/step - loss: 0.2306 - accuracy: 0.9427 - precision_1: 0.8944 - recall_1: 0.8890 - val_loss: 0.5477 - val_accuracy: 0.6911 - val_precision_1: 0.4516 - val_recall_1: 0.7299\n",
            "Epoch 5/10\n",
            "99/99 [==============================] - 4s 39ms/step - loss: 0.1852 - accuracy: 0.9680 - precision_1: 0.9192 - recall_1: 0.9642 - val_loss: 0.5375 - val_accuracy: 0.6835 - val_precision_1: 0.4457 - val_recall_1: 0.7583\n",
            "Epoch 6/10\n",
            "99/99 [==============================] - 4s 39ms/step - loss: 0.1646 - accuracy: 0.9680 - precision_1: 0.9136 - recall_1: 0.9714 - val_loss: 0.5569 - val_accuracy: 0.7127 - val_precision_1: 0.4758 - val_recall_1: 0.7441\n",
            "Epoch 7/10\n",
            "99/99 [==============================] - 4s 38ms/step - loss: 0.1260 - accuracy: 0.9769 - precision_1: 0.9283 - recall_1: 0.9893 - val_loss: 0.8503 - val_accuracy: 0.7747 - val_precision_1: 0.5767 - val_recall_1: 0.5877\n",
            "Epoch 8/10\n",
            "99/99 [==============================] - 4s 39ms/step - loss: 0.1181 - accuracy: 0.9743 - precision_1: 0.9287 - recall_1: 0.9785 - val_loss: 0.8679 - val_accuracy: 0.7709 - val_precision_1: 0.5664 - val_recall_1: 0.6066\n",
            "Epoch 9/10\n",
            "99/99 [==============================] - 4s 39ms/step - loss: 0.0960 - accuracy: 0.9766 - precision_1: 0.9312 - recall_1: 0.9845 - val_loss: 1.4003 - val_accuracy: 0.7316 - val_precision_1: 0.4981 - val_recall_1: 0.6114\n",
            "Epoch 10/10\n",
            "99/99 [==============================] - 4s 40ms/step - loss: 0.0966 - accuracy: 0.9775 - precision_1: 0.9363 - recall_1: 0.9821 - val_loss: 1.0665 - val_accuracy: 0.7342 - val_precision_1: 0.5018 - val_recall_1: 0.6445\n",
            "Best epoch: 7\n"
          ]
        }
      ]
    },
    {
      "cell_type": "markdown",
      "metadata": {
        "id": "b8lZZg7P8Gr4"
      },
      "source": [
        "#### Performance Commentary"
      ]
    },
    {
      "cell_type": "markdown",
      "metadata": {
        "id": "iqP7eXu08Gr4"
      },
      "source": [
        "Neural Network II (NNII) had slightly better performance than Neural Network I (NNI); 82% accuracy compared to 79%. The main improvement was that NNII was able to recognize the positive class a lot better than NNI. True positives and false negatives had slightly better performance. The false positives category improved the most, decreasing by more than 2%, from 7.9% to 5.7%. This improved performance comes from the usage of layers specialized for text classification, the TransformerBlock and the TokenAndPosition embedding.\n"
      ]
    },
    {
      "cell_type": "markdown",
      "metadata": {
        "id": "RCflVTasjv4Q"
      },
      "source": [
        "# 7) Conclusions"
      ]
    },
    {
      "cell_type": "markdown",
      "metadata": {
        "id": "UPiwW9XYvQ9V"
      },
      "source": [
        "While we made significant improvements in performance with the neural networks, the best performance still came from the SVM model. NNII had 82% accuracy, the second highest of any model. SVM had 83% accuracy and the best recognition of the positive case. "
      ]
    }
  ]
}